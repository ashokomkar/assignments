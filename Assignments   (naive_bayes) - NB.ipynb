{
 "cells": [
  {
   "cell_type": "code",
   "execution_count": 1,
   "id": "a2aa87e2",
   "metadata": {
    "ExecuteTime": {
     "end_time": "2022-10-29T04:47:39.414528Z",
     "start_time": "2022-10-29T04:47:21.554180Z"
    }
   },
   "outputs": [],
   "source": [
    "import pandas as pd\n",
    "import numpy as np\n",
    "import seaborn as sns\n",
    "import matplotlib.pyplot as plt\n",
    "import warnings\n",
    "warnings.filterwarnings('ignore')"
   ]
  },
  {
   "cell_type": "code",
   "execution_count": 2,
   "id": "5c791894",
   "metadata": {
    "ExecuteTime": {
     "end_time": "2022-10-29T04:47:39.795918Z",
     "start_time": "2022-10-29T04:47:39.426455Z"
    }
   },
   "outputs": [],
   "source": [
    "# read the data set and basic eda\n",
    "\n",
    "dt=pd.read_csv('SalaryData_Train.csv')"
   ]
  },
  {
   "cell_type": "code",
   "execution_count": 3,
   "id": "f37451b9",
   "metadata": {
    "ExecuteTime": {
     "end_time": "2022-10-29T04:47:40.095214Z",
     "start_time": "2022-10-29T04:47:39.800850Z"
    }
   },
   "outputs": [
    {
     "data": {
      "text/html": [
       "<div>\n",
       "<style scoped>\n",
       "    .dataframe tbody tr th:only-of-type {\n",
       "        vertical-align: middle;\n",
       "    }\n",
       "\n",
       "    .dataframe tbody tr th {\n",
       "        vertical-align: top;\n",
       "    }\n",
       "\n",
       "    .dataframe thead th {\n",
       "        text-align: right;\n",
       "    }\n",
       "</style>\n",
       "<table border=\"1\" class=\"dataframe\">\n",
       "  <thead>\n",
       "    <tr style=\"text-align: right;\">\n",
       "      <th></th>\n",
       "      <th>age</th>\n",
       "      <th>workclass</th>\n",
       "      <th>education</th>\n",
       "      <th>educationno</th>\n",
       "      <th>maritalstatus</th>\n",
       "      <th>occupation</th>\n",
       "      <th>relationship</th>\n",
       "      <th>race</th>\n",
       "      <th>sex</th>\n",
       "      <th>capitalgain</th>\n",
       "      <th>capitalloss</th>\n",
       "      <th>hoursperweek</th>\n",
       "      <th>native</th>\n",
       "      <th>Salary</th>\n",
       "    </tr>\n",
       "  </thead>\n",
       "  <tbody>\n",
       "    <tr>\n",
       "      <th>0</th>\n",
       "      <td>39</td>\n",
       "      <td>State-gov</td>\n",
       "      <td>Bachelors</td>\n",
       "      <td>13</td>\n",
       "      <td>Never-married</td>\n",
       "      <td>Adm-clerical</td>\n",
       "      <td>Not-in-family</td>\n",
       "      <td>White</td>\n",
       "      <td>Male</td>\n",
       "      <td>2174</td>\n",
       "      <td>0</td>\n",
       "      <td>40</td>\n",
       "      <td>United-States</td>\n",
       "      <td>&lt;=50K</td>\n",
       "    </tr>\n",
       "    <tr>\n",
       "      <th>1</th>\n",
       "      <td>50</td>\n",
       "      <td>Self-emp-not-inc</td>\n",
       "      <td>Bachelors</td>\n",
       "      <td>13</td>\n",
       "      <td>Married-civ-spouse</td>\n",
       "      <td>Exec-managerial</td>\n",
       "      <td>Husband</td>\n",
       "      <td>White</td>\n",
       "      <td>Male</td>\n",
       "      <td>0</td>\n",
       "      <td>0</td>\n",
       "      <td>13</td>\n",
       "      <td>United-States</td>\n",
       "      <td>&lt;=50K</td>\n",
       "    </tr>\n",
       "    <tr>\n",
       "      <th>2</th>\n",
       "      <td>38</td>\n",
       "      <td>Private</td>\n",
       "      <td>HS-grad</td>\n",
       "      <td>9</td>\n",
       "      <td>Divorced</td>\n",
       "      <td>Handlers-cleaners</td>\n",
       "      <td>Not-in-family</td>\n",
       "      <td>White</td>\n",
       "      <td>Male</td>\n",
       "      <td>0</td>\n",
       "      <td>0</td>\n",
       "      <td>40</td>\n",
       "      <td>United-States</td>\n",
       "      <td>&lt;=50K</td>\n",
       "    </tr>\n",
       "    <tr>\n",
       "      <th>3</th>\n",
       "      <td>53</td>\n",
       "      <td>Private</td>\n",
       "      <td>11th</td>\n",
       "      <td>7</td>\n",
       "      <td>Married-civ-spouse</td>\n",
       "      <td>Handlers-cleaners</td>\n",
       "      <td>Husband</td>\n",
       "      <td>Black</td>\n",
       "      <td>Male</td>\n",
       "      <td>0</td>\n",
       "      <td>0</td>\n",
       "      <td>40</td>\n",
       "      <td>United-States</td>\n",
       "      <td>&lt;=50K</td>\n",
       "    </tr>\n",
       "    <tr>\n",
       "      <th>4</th>\n",
       "      <td>28</td>\n",
       "      <td>Private</td>\n",
       "      <td>Bachelors</td>\n",
       "      <td>13</td>\n",
       "      <td>Married-civ-spouse</td>\n",
       "      <td>Prof-specialty</td>\n",
       "      <td>Wife</td>\n",
       "      <td>Black</td>\n",
       "      <td>Female</td>\n",
       "      <td>0</td>\n",
       "      <td>0</td>\n",
       "      <td>40</td>\n",
       "      <td>Cuba</td>\n",
       "      <td>&lt;=50K</td>\n",
       "    </tr>\n",
       "  </tbody>\n",
       "</table>\n",
       "</div>"
      ],
      "text/plain": [
       "   age          workclass   education  educationno        maritalstatus  \\\n",
       "0   39          State-gov   Bachelors           13        Never-married   \n",
       "1   50   Self-emp-not-inc   Bachelors           13   Married-civ-spouse   \n",
       "2   38            Private     HS-grad            9             Divorced   \n",
       "3   53            Private        11th            7   Married-civ-spouse   \n",
       "4   28            Private   Bachelors           13   Married-civ-spouse   \n",
       "\n",
       "           occupation    relationship    race      sex  capitalgain  \\\n",
       "0        Adm-clerical   Not-in-family   White     Male         2174   \n",
       "1     Exec-managerial         Husband   White     Male            0   \n",
       "2   Handlers-cleaners   Not-in-family   White     Male            0   \n",
       "3   Handlers-cleaners         Husband   Black     Male            0   \n",
       "4      Prof-specialty            Wife   Black   Female            0   \n",
       "\n",
       "   capitalloss  hoursperweek          native  Salary  \n",
       "0            0            40   United-States   <=50K  \n",
       "1            0            13   United-States   <=50K  \n",
       "2            0            40   United-States   <=50K  \n",
       "3            0            40   United-States   <=50K  \n",
       "4            0            40            Cuba   <=50K  "
      ]
     },
     "execution_count": 3,
     "metadata": {},
     "output_type": "execute_result"
    }
   ],
   "source": [
    "dt.head()"
   ]
  },
  {
   "cell_type": "code",
   "execution_count": 4,
   "id": "1b81c5b8",
   "metadata": {
    "ExecuteTime": {
     "end_time": "2022-10-29T04:47:40.143166Z",
     "start_time": "2022-10-29T04:47:40.100194Z"
    }
   },
   "outputs": [
    {
     "data": {
      "text/html": [
       "<div>\n",
       "<style scoped>\n",
       "    .dataframe tbody tr th:only-of-type {\n",
       "        vertical-align: middle;\n",
       "    }\n",
       "\n",
       "    .dataframe tbody tr th {\n",
       "        vertical-align: top;\n",
       "    }\n",
       "\n",
       "    .dataframe thead th {\n",
       "        text-align: right;\n",
       "    }\n",
       "</style>\n",
       "<table border=\"1\" class=\"dataframe\">\n",
       "  <thead>\n",
       "    <tr style=\"text-align: right;\">\n",
       "      <th></th>\n",
       "      <th>age</th>\n",
       "      <th>workclass</th>\n",
       "      <th>education</th>\n",
       "      <th>educationno</th>\n",
       "      <th>maritalstatus</th>\n",
       "      <th>occupation</th>\n",
       "      <th>relationship</th>\n",
       "      <th>race</th>\n",
       "      <th>sex</th>\n",
       "      <th>capitalgain</th>\n",
       "      <th>capitalloss</th>\n",
       "      <th>hoursperweek</th>\n",
       "      <th>native</th>\n",
       "      <th>Salary</th>\n",
       "    </tr>\n",
       "  </thead>\n",
       "  <tbody>\n",
       "    <tr>\n",
       "      <th>30156</th>\n",
       "      <td>27</td>\n",
       "      <td>Private</td>\n",
       "      <td>Assoc-acdm</td>\n",
       "      <td>12</td>\n",
       "      <td>Married-civ-spouse</td>\n",
       "      <td>Tech-support</td>\n",
       "      <td>Wife</td>\n",
       "      <td>White</td>\n",
       "      <td>Female</td>\n",
       "      <td>0</td>\n",
       "      <td>0</td>\n",
       "      <td>38</td>\n",
       "      <td>United-States</td>\n",
       "      <td>&lt;=50K</td>\n",
       "    </tr>\n",
       "    <tr>\n",
       "      <th>30157</th>\n",
       "      <td>40</td>\n",
       "      <td>Private</td>\n",
       "      <td>HS-grad</td>\n",
       "      <td>9</td>\n",
       "      <td>Married-civ-spouse</td>\n",
       "      <td>Machine-op-inspct</td>\n",
       "      <td>Husband</td>\n",
       "      <td>White</td>\n",
       "      <td>Male</td>\n",
       "      <td>0</td>\n",
       "      <td>0</td>\n",
       "      <td>40</td>\n",
       "      <td>United-States</td>\n",
       "      <td>&gt;50K</td>\n",
       "    </tr>\n",
       "    <tr>\n",
       "      <th>30158</th>\n",
       "      <td>58</td>\n",
       "      <td>Private</td>\n",
       "      <td>HS-grad</td>\n",
       "      <td>9</td>\n",
       "      <td>Widowed</td>\n",
       "      <td>Adm-clerical</td>\n",
       "      <td>Unmarried</td>\n",
       "      <td>White</td>\n",
       "      <td>Female</td>\n",
       "      <td>0</td>\n",
       "      <td>0</td>\n",
       "      <td>40</td>\n",
       "      <td>United-States</td>\n",
       "      <td>&lt;=50K</td>\n",
       "    </tr>\n",
       "    <tr>\n",
       "      <th>30159</th>\n",
       "      <td>22</td>\n",
       "      <td>Private</td>\n",
       "      <td>HS-grad</td>\n",
       "      <td>9</td>\n",
       "      <td>Never-married</td>\n",
       "      <td>Adm-clerical</td>\n",
       "      <td>Own-child</td>\n",
       "      <td>White</td>\n",
       "      <td>Male</td>\n",
       "      <td>0</td>\n",
       "      <td>0</td>\n",
       "      <td>20</td>\n",
       "      <td>United-States</td>\n",
       "      <td>&lt;=50K</td>\n",
       "    </tr>\n",
       "    <tr>\n",
       "      <th>30160</th>\n",
       "      <td>52</td>\n",
       "      <td>Self-emp-inc</td>\n",
       "      <td>HS-grad</td>\n",
       "      <td>9</td>\n",
       "      <td>Married-civ-spouse</td>\n",
       "      <td>Exec-managerial</td>\n",
       "      <td>Wife</td>\n",
       "      <td>White</td>\n",
       "      <td>Female</td>\n",
       "      <td>15024</td>\n",
       "      <td>0</td>\n",
       "      <td>40</td>\n",
       "      <td>United-States</td>\n",
       "      <td>&gt;50K</td>\n",
       "    </tr>\n",
       "  </tbody>\n",
       "</table>\n",
       "</div>"
      ],
      "text/plain": [
       "       age      workclass    education  educationno        maritalstatus  \\\n",
       "30156   27        Private   Assoc-acdm           12   Married-civ-spouse   \n",
       "30157   40        Private      HS-grad            9   Married-civ-spouse   \n",
       "30158   58        Private      HS-grad            9              Widowed   \n",
       "30159   22        Private      HS-grad            9        Never-married   \n",
       "30160   52   Self-emp-inc      HS-grad            9   Married-civ-spouse   \n",
       "\n",
       "               occupation relationship    race      sex  capitalgain  \\\n",
       "30156        Tech-support         Wife   White   Female            0   \n",
       "30157   Machine-op-inspct      Husband   White     Male            0   \n",
       "30158        Adm-clerical    Unmarried   White   Female            0   \n",
       "30159        Adm-clerical    Own-child   White     Male            0   \n",
       "30160     Exec-managerial         Wife   White   Female        15024   \n",
       "\n",
       "       capitalloss  hoursperweek          native  Salary  \n",
       "30156            0            38   United-States   <=50K  \n",
       "30157            0            40   United-States    >50K  \n",
       "30158            0            40   United-States   <=50K  \n",
       "30159            0            20   United-States   <=50K  \n",
       "30160            0            40   United-States    >50K  "
      ]
     },
     "execution_count": 4,
     "metadata": {},
     "output_type": "execute_result"
    }
   ],
   "source": [
    "dt.tail()"
   ]
  },
  {
   "cell_type": "code",
   "execution_count": 5,
   "id": "99d35e14",
   "metadata": {
    "ExecuteTime": {
     "end_time": "2022-10-29T04:47:40.518506Z",
     "start_time": "2022-10-29T04:47:40.146167Z"
    }
   },
   "outputs": [
    {
     "name": "stdout",
     "output_type": "stream",
     "text": [
      "<class 'pandas.core.frame.DataFrame'>\n",
      "RangeIndex: 30161 entries, 0 to 30160\n",
      "Data columns (total 14 columns):\n",
      " #   Column         Non-Null Count  Dtype \n",
      "---  ------         --------------  ----- \n",
      " 0   age            30161 non-null  int64 \n",
      " 1   workclass      30161 non-null  object\n",
      " 2   education      30161 non-null  object\n",
      " 3   educationno    30161 non-null  int64 \n",
      " 4   maritalstatus  30161 non-null  object\n",
      " 5   occupation     30161 non-null  object\n",
      " 6   relationship   30161 non-null  object\n",
      " 7   race           30161 non-null  object\n",
      " 8   sex            30161 non-null  object\n",
      " 9   capitalgain    30161 non-null  int64 \n",
      " 10  capitalloss    30161 non-null  int64 \n",
      " 11  hoursperweek   30161 non-null  int64 \n",
      " 12  native         30161 non-null  object\n",
      " 13  Salary         30161 non-null  object\n",
      "dtypes: int64(5), object(9)\n",
      "memory usage: 3.2+ MB\n"
     ]
    }
   ],
   "source": [
    "dt.info()"
   ]
  },
  {
   "cell_type": "code",
   "execution_count": 6,
   "id": "17c77ed3",
   "metadata": {
    "ExecuteTime": {
     "end_time": "2022-10-29T04:47:40.598460Z",
     "start_time": "2022-10-29T04:47:40.525504Z"
    }
   },
   "outputs": [
    {
     "data": {
      "text/plain": [
       "age              0\n",
       "workclass        0\n",
       "education        0\n",
       "educationno      0\n",
       "maritalstatus    0\n",
       "occupation       0\n",
       "relationship     0\n",
       "race             0\n",
       "sex              0\n",
       "capitalgain      0\n",
       "capitalloss      0\n",
       "hoursperweek     0\n",
       "native           0\n",
       "Salary           0\n",
       "dtype: int64"
      ]
     },
     "execution_count": 6,
     "metadata": {},
     "output_type": "execute_result"
    }
   ],
   "source": [
    "dt.isna().sum()"
   ]
  },
  {
   "cell_type": "code",
   "execution_count": 7,
   "id": "6972faf1",
   "metadata": {
    "ExecuteTime": {
     "end_time": "2022-10-29T04:47:40.882413Z",
     "start_time": "2022-10-29T04:47:40.600461Z"
    }
   },
   "outputs": [
    {
     "data": {
      "text/html": [
       "<div>\n",
       "<style scoped>\n",
       "    .dataframe tbody tr th:only-of-type {\n",
       "        vertical-align: middle;\n",
       "    }\n",
       "\n",
       "    .dataframe tbody tr th {\n",
       "        vertical-align: top;\n",
       "    }\n",
       "\n",
       "    .dataframe thead th {\n",
       "        text-align: right;\n",
       "    }\n",
       "</style>\n",
       "<table border=\"1\" class=\"dataframe\">\n",
       "  <thead>\n",
       "    <tr style=\"text-align: right;\">\n",
       "      <th></th>\n",
       "      <th>age</th>\n",
       "      <th>educationno</th>\n",
       "      <th>capitalgain</th>\n",
       "      <th>capitalloss</th>\n",
       "      <th>hoursperweek</th>\n",
       "    </tr>\n",
       "  </thead>\n",
       "  <tbody>\n",
       "    <tr>\n",
       "      <th>count</th>\n",
       "      <td>30161.000000</td>\n",
       "      <td>30161.000000</td>\n",
       "      <td>30161.000000</td>\n",
       "      <td>30161.000000</td>\n",
       "      <td>30161.000000</td>\n",
       "    </tr>\n",
       "    <tr>\n",
       "      <th>mean</th>\n",
       "      <td>38.438115</td>\n",
       "      <td>10.121316</td>\n",
       "      <td>1092.044064</td>\n",
       "      <td>88.302311</td>\n",
       "      <td>40.931269</td>\n",
       "    </tr>\n",
       "    <tr>\n",
       "      <th>std</th>\n",
       "      <td>13.134830</td>\n",
       "      <td>2.550037</td>\n",
       "      <td>7406.466611</td>\n",
       "      <td>404.121321</td>\n",
       "      <td>11.980182</td>\n",
       "    </tr>\n",
       "    <tr>\n",
       "      <th>min</th>\n",
       "      <td>17.000000</td>\n",
       "      <td>1.000000</td>\n",
       "      <td>0.000000</td>\n",
       "      <td>0.000000</td>\n",
       "      <td>1.000000</td>\n",
       "    </tr>\n",
       "    <tr>\n",
       "      <th>25%</th>\n",
       "      <td>28.000000</td>\n",
       "      <td>9.000000</td>\n",
       "      <td>0.000000</td>\n",
       "      <td>0.000000</td>\n",
       "      <td>40.000000</td>\n",
       "    </tr>\n",
       "    <tr>\n",
       "      <th>50%</th>\n",
       "      <td>37.000000</td>\n",
       "      <td>10.000000</td>\n",
       "      <td>0.000000</td>\n",
       "      <td>0.000000</td>\n",
       "      <td>40.000000</td>\n",
       "    </tr>\n",
       "    <tr>\n",
       "      <th>75%</th>\n",
       "      <td>47.000000</td>\n",
       "      <td>13.000000</td>\n",
       "      <td>0.000000</td>\n",
       "      <td>0.000000</td>\n",
       "      <td>45.000000</td>\n",
       "    </tr>\n",
       "    <tr>\n",
       "      <th>max</th>\n",
       "      <td>90.000000</td>\n",
       "      <td>16.000000</td>\n",
       "      <td>99999.000000</td>\n",
       "      <td>4356.000000</td>\n",
       "      <td>99.000000</td>\n",
       "    </tr>\n",
       "  </tbody>\n",
       "</table>\n",
       "</div>"
      ],
      "text/plain": [
       "                age   educationno   capitalgain   capitalloss  hoursperweek\n",
       "count  30161.000000  30161.000000  30161.000000  30161.000000  30161.000000\n",
       "mean      38.438115     10.121316   1092.044064     88.302311     40.931269\n",
       "std       13.134830      2.550037   7406.466611    404.121321     11.980182\n",
       "min       17.000000      1.000000      0.000000      0.000000      1.000000\n",
       "25%       28.000000      9.000000      0.000000      0.000000     40.000000\n",
       "50%       37.000000     10.000000      0.000000      0.000000     40.000000\n",
       "75%       47.000000     13.000000      0.000000      0.000000     45.000000\n",
       "max       90.000000     16.000000  99999.000000   4356.000000     99.000000"
      ]
     },
     "execution_count": 7,
     "metadata": {},
     "output_type": "execute_result"
    }
   ],
   "source": [
    "dt.describe()"
   ]
  },
  {
   "cell_type": "code",
   "execution_count": 8,
   "id": "e608907e",
   "metadata": {
    "ExecuteTime": {
     "end_time": "2022-10-29T04:47:44.534415Z",
     "start_time": "2022-10-29T04:47:40.885413Z"
    }
   },
   "outputs": [
    {
     "data": {
      "text/plain": [
       "<AxesSubplot:xlabel='educationno', ylabel='age'>"
      ]
     },
     "execution_count": 8,
     "metadata": {},
     "output_type": "execute_result"
    },
    {
     "data": {
      "image/png": "[encoded data removed]",
      "text/plain": [
       "<Figure size 432x288 with 1 Axes>"
      ]
     },
     "metadata": {
      "needs_background": "light"
     },
     "output_type": "display_data"
    }
   ],
   "source": [
    "import seaborn as sns\n",
    "sns.regplot(x=dt['educationno'],y=dt['age'])"
   ]
  },
  {
   "cell_type": "code",
   "execution_count": 9,
   "id": "5ccd9908",
   "metadata": {
    "ExecuteTime": {
     "end_time": "2022-10-29T04:47:44.836266Z",
     "start_time": "2022-10-29T04:47:44.538415Z"
    }
   },
   "outputs": [
    {
     "data": {
      "text/plain": [
       "Text(0.5, 1.0, 'Scatter plot')"
      ]
     },
     "execution_count": 9,
     "metadata": {},
     "output_type": "execute_result"
    },
    {
     "data": {
      "image/png": "[encoded data removed]",
      "text/plain": [
       "<Figure size 432x288 with 1 Axes>"
      ]
     },
     "metadata": {
      "needs_background": "light"
     },
     "output_type": "display_data"
    }
   ],
   "source": [
    "import matplotlib.pyplot as plt\n",
    "plt.scatter(x=dt['age'],y=dt['educationno'],color='Red')\n",
    "plt.xlabel('age')\n",
    "plt.ylabel('educationno') \n",
    "plt.title('Scatter plot')"
   ]
  },
  {
   "cell_type": "code",
   "execution_count": 10,
   "id": "7a75436e",
   "metadata": {
    "ExecuteTime": {
     "end_time": "2022-10-29T04:47:47.443540Z",
     "start_time": "2022-10-29T04:47:44.840261Z"
    }
   },
   "outputs": [],
   "source": [
    "# labeling the data set\n",
    "from sklearn.preprocessing import LabelEncoder\n",
    "le=LabelEncoder()\n",
    "\n",
    "dt['workclass']=le.fit_transform(dt['workclass'])\n",
    "dt['education']=le.fit_transform(dt['education'])\n",
    "dt['maritalstatus']=le.fit_transform(dt['maritalstatus'])\n",
    "dt['occupation']=le.fit_transform(dt['occupation'])\n",
    "dt['relationship']=le.fit_transform(dt['relationship'])\n",
    "dt['race']=le.fit_transform(dt['race'])\n",
    "dt['sex']=le.fit_transform(dt['sex'])\n",
    "dt['native']=le.fit_transform(dt['native'])\n",
    "dt['Salary']=le.fit_transform(dt['Salary'])"
   ]
  },
  {
   "cell_type": "code",
   "execution_count": 11,
   "id": "24ad37ee",
   "metadata": {
    "ExecuteTime": {
     "end_time": "2022-10-29T04:47:47.475581Z",
     "start_time": "2022-10-29T04:47:47.445497Z"
    }
   },
   "outputs": [],
   "source": [
    "# split the data \n",
    "X=dt.drop(['Salary'],axis=1)\n",
    "Y=dt['Salary']"
   ]
  },
  {
   "cell_type": "code",
   "execution_count": 12,
   "id": "09544d17",
   "metadata": {
    "ExecuteTime": {
     "end_time": "2022-10-29T04:47:48.143452Z",
     "start_time": "2022-10-29T04:47:47.477582Z"
    }
   },
   "outputs": [],
   "source": [
    "# test and train the data set\n",
    "from sklearn.model_selection import train_test_split\n",
    "X_train,X_test,Y_train,Y_test=train_test_split(X,Y,test_size=0.2,random_state=42)"
   ]
  },
  {
   "cell_type": "code",
   "execution_count": 13,
   "id": "1db6bd8e",
   "metadata": {
    "ExecuteTime": {
     "end_time": "2022-10-29T04:47:48.375282Z",
     "start_time": "2022-10-29T04:47:48.145416Z"
    }
   },
   "outputs": [
    {
     "data": {
      "text/plain": [
       "GaussianNB()"
      ]
     },
     "execution_count": 13,
     "metadata": {},
     "output_type": "execute_result"
    }
   ],
   "source": [
    "# Model fitting using  GaussianNB\n",
    "from sklearn.naive_bayes import GaussianNB\n",
    "model1=GaussianNB()\n",
    "model1.fit(X_train,Y_train)"
   ]
  },
  {
   "cell_type": "code",
   "execution_count": 14,
   "id": "665c387e",
   "metadata": {
    "ExecuteTime": {
     "end_time": "2022-10-29T04:47:48.625295Z",
     "start_time": "2022-10-29T04:47:48.381285Z"
    }
   },
   "outputs": [
    {
     "name": "stdout",
     "output_type": "stream",
     "text": [
      "training accuracy: 0.7968335543766578\n",
      "testing accuracy: 0.7908171722194597\n"
     ]
    }
   ],
   "source": [
    "print('training accuracy:',model1.score(X_train,Y_train))\n",
    "print('testing accuracy:',model1.score(X_test,Y_test))"
   ]
  },
  {
   "cell_type": "code",
   "execution_count": 15,
   "id": "f9c23763",
   "metadata": {
    "ExecuteTime": {
     "end_time": "2022-10-29T04:47:48.782925Z",
     "start_time": "2022-10-29T04:47:48.628293Z"
    }
   },
   "outputs": [
    {
     "data": {
      "text/plain": [
       "MultinomialNB()"
      ]
     },
     "execution_count": 15,
     "metadata": {},
     "output_type": "execute_result"
    }
   ],
   "source": [
    "# Model fitting using MultinomialNB\n",
    "from sklearn.naive_bayes import MultinomialNB\n",
    "model2=MultinomialNB()\n",
    "model2.fit(X_train,Y_train)"
   ]
  },
  {
   "cell_type": "code",
   "execution_count": 16,
   "id": "38d10e43",
   "metadata": {
    "ExecuteTime": {
     "end_time": "2022-10-29T04:47:48.969478Z",
     "start_time": "2022-10-29T04:47:48.784865Z"
    }
   },
   "outputs": [
    {
     "name": "stdout",
     "output_type": "stream",
     "text": [
      "training accuracy: 0.7741627984084881\n",
      "testing accuracy: 0.7679429802751533\n"
     ]
    }
   ],
   "source": [
    "print('training accuracy:',model2.score(X_train,Y_train))\n",
    "print('testing accuracy:',model2.score(X_test,Y_test))"
   ]
  },
  {
   "cell_type": "code",
   "execution_count": 17,
   "id": "60d68e0c",
   "metadata": {
    "ExecuteTime": {
     "end_time": "2022-10-29T04:47:49.049431Z",
     "start_time": "2022-10-29T04:47:48.975475Z"
    }
   },
   "outputs": [
    {
     "data": {
      "text/plain": [
       "CategoricalNB()"
      ]
     },
     "execution_count": 17,
     "metadata": {},
     "output_type": "execute_result"
    }
   ],
   "source": [
    "# # Model fitting using CategoricalNB\n",
    "from sklearn.naive_bayes import CategoricalNB\n",
    "model3=CategoricalNB()\n",
    "model3.fit(X_train,Y_train)"
   ]
  },
  {
   "cell_type": "code",
   "execution_count": 18,
   "id": "0e181ec1",
   "metadata": {
    "ExecuteTime": {
     "end_time": "2022-10-29T04:47:49.127388Z",
     "start_time": "2022-10-29T04:47:49.053431Z"
    }
   },
   "outputs": [
    {
     "name": "stdout",
     "output_type": "stream",
     "text": [
      "training accuracy: 0.8578000663129973\n",
      "testing accuracy: 0.8582794629537543\n"
     ]
    }
   ],
   "source": [
    "print('training accuracy:',model3.score(X_train,Y_train))\n",
    "print('testing accuracy:',model3.score(X_test,Y_test))"
   ]
  },
  {
   "cell_type": "code",
   "execution_count": 19,
   "id": "1cbd4fda",
   "metadata": {
    "ExecuteTime": {
     "end_time": "2022-10-29T04:47:49.299597Z",
     "start_time": "2022-10-29T04:47:49.130385Z"
    }
   },
   "outputs": [
    {
     "data": {
      "text/plain": [
       "BernoulliNB()"
      ]
     },
     "execution_count": 19,
     "metadata": {},
     "output_type": "execute_result"
    }
   ],
   "source": [
    "# Model fitting using ernoulliNB\n",
    "\n",
    "from sklearn.naive_bayes import BernoulliNB\n",
    "model4=BernoulliNB()\n",
    "model4.fit(X_train,Y_train)"
   ]
  },
  {
   "cell_type": "code",
   "execution_count": 20,
   "id": "5c8a2c1a",
   "metadata": {
    "ExecuteTime": {
     "end_time": "2022-10-29T04:47:49.363556Z",
     "start_time": "2022-10-29T04:47:49.307589Z"
    },
    "scrolled": true
   },
   "outputs": [
    {
     "name": "stdout",
     "output_type": "stream",
     "text": [
      "training accuracy: 0.7265003315649867\n",
      "testing accuracy: 0.7223603514006298\n"
     ]
    }
   ],
   "source": [
    "print('training accuracy:',model4.score(X_train,Y_train))\n",
    "print('testing accuracy:',model4.score(X_test,Y_test))"
   ]
  },
  {
   "cell_type": "code",
   "execution_count": 21,
   "id": "9cd7aac0",
   "metadata": {
    "ExecuteTime": {
     "end_time": "2022-10-29T04:47:49.491483Z",
     "start_time": "2022-10-29T04:47:49.366555Z"
    }
   },
   "outputs": [
    {
     "data": {
      "text/plain": [
       "BernoulliNB()"
      ]
     },
     "execution_count": 21,
     "metadata": {},
     "output_type": "execute_result"
    }
   ],
   "source": [
    "# Model fitting using ComplementNB\n",
    "from sklearn.naive_bayes import ComplementNB\n",
    "model5=BernoulliNB()\n",
    "model5.fit(X_train,Y_train)"
   ]
  },
  {
   "cell_type": "code",
   "execution_count": 22,
   "id": "a83b0235",
   "metadata": {
    "ExecuteTime": {
     "end_time": "2022-10-29T04:47:49.661869Z",
     "start_time": "2022-10-29T04:47:49.494481Z"
    }
   },
   "outputs": [
    {
     "name": "stdout",
     "output_type": "stream",
     "text": [
      "training accuracy: 0.7265003315649867\n",
      "testing accuracy: 0.7223603514006298\n"
     ]
    }
   ],
   "source": [
    "print('training accuracy:',model5.score(X_train,Y_train))\n",
    "print('testing accuracy:',model5.score(X_test,Y_test))"
   ]
  },
  {
   "cell_type": "raw",
   "id": "4de8384e",
   "metadata": {},
   "source": [
    "See the all Navie bayes classifiers the best accuracy comes out the CategoricalNB we can develop the predicted model usig CategoricalNB "
   ]
  },
  {
   "cell_type": "markdown",
   "id": "831bc399",
   "metadata": {},
   "source": [
    "# predicted the salary using test data set"
   ]
  },
  {
   "cell_type": "code",
   "execution_count": 23,
   "id": "54665b39",
   "metadata": {
    "ExecuteTime": {
     "end_time": "2022-10-29T04:47:50.024299Z",
     "start_time": "2022-10-29T04:47:49.663848Z"
    }
   },
   "outputs": [],
   "source": [
    "df=pd.read_csv('SalaryData_Test.csv')"
   ]
  },
  {
   "cell_type": "code",
   "execution_count": 24,
   "id": "6f0e1b51",
   "metadata": {
    "ExecuteTime": {
     "end_time": "2022-10-29T04:47:50.039262Z",
     "start_time": "2022-10-29T04:47:50.026253Z"
    }
   },
   "outputs": [
    {
     "data": {
      "text/plain": [
       "Index(['age', 'workclass', 'education', 'educationno', 'maritalstatus',\n",
       "       'occupation', 'relationship', 'race', 'sex', 'capitalgain',\n",
       "       'capitalloss', 'hoursperweek', 'native', 'Salary'],\n",
       "      dtype='object')"
      ]
     },
     "execution_count": 24,
     "metadata": {},
     "output_type": "execute_result"
    }
   ],
   "source": [
    "df.columns"
   ]
  },
  {
   "cell_type": "code",
   "execution_count": 25,
   "id": "6bd9f5d6",
   "metadata": {
    "ExecuteTime": {
     "end_time": "2022-10-29T04:47:50.272197Z",
     "start_time": "2022-10-29T04:47:50.043246Z"
    }
   },
   "outputs": [],
   "source": [
    "df['workclass']=le.fit_transform(df['workclass'])\n",
    "df['education']=le.fit_transform(df['education'])\n",
    "df['maritalstatus']=le.fit_transform(df['maritalstatus'])\n",
    "df['occupation']=le.fit_transform(df['occupation'])\n",
    "df['relationship']=le.fit_transform(df['relationship'])\n",
    "df['race']=le.fit_transform(df['race'])\n",
    "df['sex']=le.fit_transform(df['sex'])\n",
    "df['native']=le.fit_transform(df['native'])\n",
    "df['Salary']=le.fit_transform(df['Salary'])"
   ]
  },
  {
   "cell_type": "code",
   "execution_count": 26,
   "id": "4a0c26f9",
   "metadata": {
    "ExecuteTime": {
     "end_time": "2022-10-29T04:47:50.350115Z",
     "start_time": "2022-10-29T04:47:50.275140Z"
    }
   },
   "outputs": [],
   "source": [
    "test_data=df.iloc[:,0:13]"
   ]
  },
  {
   "cell_type": "code",
   "execution_count": 27,
   "id": "68440825",
   "metadata": {
    "ExecuteTime": {
     "end_time": "2022-10-29T04:47:50.458107Z",
     "start_time": "2022-10-29T04:47:50.353095Z"
    }
   },
   "outputs": [
    {
     "data": {
      "text/plain": [
       "0        0\n",
       "1        0\n",
       "2        0\n",
       "3        1\n",
       "4        0\n",
       "        ..\n",
       "15055    0\n",
       "15056    0\n",
       "15057    1\n",
       "15058    0\n",
       "15059    1\n",
       "Length: 15060, dtype: int32"
      ]
     },
     "execution_count": 27,
     "metadata": {},
     "output_type": "execute_result"
    }
   ],
   "source": [
    "salart_pred_test=pd.Series(model3.predict(test_data))\n",
    "salart_pred_test"
   ]
  },
  {
   "cell_type": "code",
   "execution_count": 28,
   "id": "e7a9d8b8",
   "metadata": {
    "ExecuteTime": {
     "end_time": "2022-10-29T04:47:50.551270Z",
     "start_time": "2022-10-29T04:47:50.465108Z"
    }
   },
   "outputs": [
    {
     "data": {
      "text/html": [
       "<div>\n",
       "<style scoped>\n",
       "    .dataframe tbody tr th:only-of-type {\n",
       "        vertical-align: middle;\n",
       "    }\n",
       "\n",
       "    .dataframe tbody tr th {\n",
       "        vertical-align: top;\n",
       "    }\n",
       "\n",
       "    .dataframe thead th {\n",
       "        text-align: right;\n",
       "    }\n",
       "</style>\n",
       "<table border=\"1\" class=\"dataframe\">\n",
       "  <thead>\n",
       "    <tr style=\"text-align: right;\">\n",
       "      <th></th>\n",
       "      <th>age</th>\n",
       "      <th>workclass</th>\n",
       "      <th>education</th>\n",
       "      <th>educationno</th>\n",
       "      <th>maritalstatus</th>\n",
       "      <th>occupation</th>\n",
       "      <th>relationship</th>\n",
       "      <th>race</th>\n",
       "      <th>sex</th>\n",
       "      <th>capitalgain</th>\n",
       "      <th>capitalloss</th>\n",
       "      <th>hoursperweek</th>\n",
       "      <th>native</th>\n",
       "      <th>Salary</th>\n",
       "      <th>salart_pred_test</th>\n",
       "    </tr>\n",
       "  </thead>\n",
       "  <tbody>\n",
       "    <tr>\n",
       "      <th>0</th>\n",
       "      <td>25</td>\n",
       "      <td>2</td>\n",
       "      <td>1</td>\n",
       "      <td>7</td>\n",
       "      <td>4</td>\n",
       "      <td>6</td>\n",
       "      <td>3</td>\n",
       "      <td>2</td>\n",
       "      <td>1</td>\n",
       "      <td>0</td>\n",
       "      <td>0</td>\n",
       "      <td>40</td>\n",
       "      <td>37</td>\n",
       "      <td>0</td>\n",
       "      <td>0</td>\n",
       "    </tr>\n",
       "    <tr>\n",
       "      <th>1</th>\n",
       "      <td>38</td>\n",
       "      <td>2</td>\n",
       "      <td>11</td>\n",
       "      <td>9</td>\n",
       "      <td>2</td>\n",
       "      <td>4</td>\n",
       "      <td>0</td>\n",
       "      <td>4</td>\n",
       "      <td>1</td>\n",
       "      <td>0</td>\n",
       "      <td>0</td>\n",
       "      <td>50</td>\n",
       "      <td>37</td>\n",
       "      <td>0</td>\n",
       "      <td>0</td>\n",
       "    </tr>\n",
       "    <tr>\n",
       "      <th>2</th>\n",
       "      <td>28</td>\n",
       "      <td>1</td>\n",
       "      <td>7</td>\n",
       "      <td>12</td>\n",
       "      <td>2</td>\n",
       "      <td>10</td>\n",
       "      <td>0</td>\n",
       "      <td>4</td>\n",
       "      <td>1</td>\n",
       "      <td>0</td>\n",
       "      <td>0</td>\n",
       "      <td>40</td>\n",
       "      <td>37</td>\n",
       "      <td>1</td>\n",
       "      <td>0</td>\n",
       "    </tr>\n",
       "    <tr>\n",
       "      <th>3</th>\n",
       "      <td>44</td>\n",
       "      <td>2</td>\n",
       "      <td>15</td>\n",
       "      <td>10</td>\n",
       "      <td>2</td>\n",
       "      <td>6</td>\n",
       "      <td>0</td>\n",
       "      <td>2</td>\n",
       "      <td>1</td>\n",
       "      <td>7688</td>\n",
       "      <td>0</td>\n",
       "      <td>40</td>\n",
       "      <td>37</td>\n",
       "      <td>1</td>\n",
       "      <td>1</td>\n",
       "    </tr>\n",
       "    <tr>\n",
       "      <th>4</th>\n",
       "      <td>34</td>\n",
       "      <td>2</td>\n",
       "      <td>0</td>\n",
       "      <td>6</td>\n",
       "      <td>4</td>\n",
       "      <td>7</td>\n",
       "      <td>1</td>\n",
       "      <td>4</td>\n",
       "      <td>1</td>\n",
       "      <td>0</td>\n",
       "      <td>0</td>\n",
       "      <td>30</td>\n",
       "      <td>37</td>\n",
       "      <td>0</td>\n",
       "      <td>0</td>\n",
       "    </tr>\n",
       "    <tr>\n",
       "      <th>...</th>\n",
       "      <td>...</td>\n",
       "      <td>...</td>\n",
       "      <td>...</td>\n",
       "      <td>...</td>\n",
       "      <td>...</td>\n",
       "      <td>...</td>\n",
       "      <td>...</td>\n",
       "      <td>...</td>\n",
       "      <td>...</td>\n",
       "      <td>...</td>\n",
       "      <td>...</td>\n",
       "      <td>...</td>\n",
       "      <td>...</td>\n",
       "      <td>...</td>\n",
       "      <td>...</td>\n",
       "    </tr>\n",
       "    <tr>\n",
       "      <th>15055</th>\n",
       "      <td>33</td>\n",
       "      <td>2</td>\n",
       "      <td>9</td>\n",
       "      <td>13</td>\n",
       "      <td>4</td>\n",
       "      <td>9</td>\n",
       "      <td>3</td>\n",
       "      <td>4</td>\n",
       "      <td>1</td>\n",
       "      <td>0</td>\n",
       "      <td>0</td>\n",
       "      <td>40</td>\n",
       "      <td>37</td>\n",
       "      <td>0</td>\n",
       "      <td>0</td>\n",
       "    </tr>\n",
       "    <tr>\n",
       "      <th>15056</th>\n",
       "      <td>39</td>\n",
       "      <td>2</td>\n",
       "      <td>9</td>\n",
       "      <td>13</td>\n",
       "      <td>0</td>\n",
       "      <td>9</td>\n",
       "      <td>1</td>\n",
       "      <td>4</td>\n",
       "      <td>0</td>\n",
       "      <td>0</td>\n",
       "      <td>0</td>\n",
       "      <td>36</td>\n",
       "      <td>37</td>\n",
       "      <td>0</td>\n",
       "      <td>0</td>\n",
       "    </tr>\n",
       "    <tr>\n",
       "      <th>15057</th>\n",
       "      <td>38</td>\n",
       "      <td>2</td>\n",
       "      <td>9</td>\n",
       "      <td>13</td>\n",
       "      <td>2</td>\n",
       "      <td>9</td>\n",
       "      <td>0</td>\n",
       "      <td>4</td>\n",
       "      <td>1</td>\n",
       "      <td>0</td>\n",
       "      <td>0</td>\n",
       "      <td>50</td>\n",
       "      <td>37</td>\n",
       "      <td>0</td>\n",
       "      <td>1</td>\n",
       "    </tr>\n",
       "    <tr>\n",
       "      <th>15058</th>\n",
       "      <td>44</td>\n",
       "      <td>2</td>\n",
       "      <td>9</td>\n",
       "      <td>13</td>\n",
       "      <td>0</td>\n",
       "      <td>0</td>\n",
       "      <td>3</td>\n",
       "      <td>1</td>\n",
       "      <td>1</td>\n",
       "      <td>5455</td>\n",
       "      <td>0</td>\n",
       "      <td>40</td>\n",
       "      <td>37</td>\n",
       "      <td>0</td>\n",
       "      <td>0</td>\n",
       "    </tr>\n",
       "    <tr>\n",
       "      <th>15059</th>\n",
       "      <td>35</td>\n",
       "      <td>3</td>\n",
       "      <td>9</td>\n",
       "      <td>13</td>\n",
       "      <td>2</td>\n",
       "      <td>3</td>\n",
       "      <td>0</td>\n",
       "      <td>4</td>\n",
       "      <td>1</td>\n",
       "      <td>0</td>\n",
       "      <td>0</td>\n",
       "      <td>60</td>\n",
       "      <td>37</td>\n",
       "      <td>1</td>\n",
       "      <td>1</td>\n",
       "    </tr>\n",
       "  </tbody>\n",
       "</table>\n",
       "<p>15060 rows × 15 columns</p>\n",
       "</div>"
      ],
      "text/plain": [
       "       age  workclass  education  educationno  maritalstatus  occupation  \\\n",
       "0       25          2          1            7              4           6   \n",
       "1       38          2         11            9              2           4   \n",
       "2       28          1          7           12              2          10   \n",
       "3       44          2         15           10              2           6   \n",
       "4       34          2          0            6              4           7   \n",
       "...    ...        ...        ...          ...            ...         ...   \n",
       "15055   33          2          9           13              4           9   \n",
       "15056   39          2          9           13              0           9   \n",
       "15057   38          2          9           13              2           9   \n",
       "15058   44          2          9           13              0           0   \n",
       "15059   35          3          9           13              2           3   \n",
       "\n",
       "       relationship  race  sex  capitalgain  capitalloss  hoursperweek  \\\n",
       "0                 3     2    1            0            0            40   \n",
       "1                 0     4    1            0            0            50   \n",
       "2                 0     4    1            0            0            40   \n",
       "3                 0     2    1         7688            0            40   \n",
       "4                 1     4    1            0            0            30   \n",
       "...             ...   ...  ...          ...          ...           ...   \n",
       "15055             3     4    1            0            0            40   \n",
       "15056             1     4    0            0            0            36   \n",
       "15057             0     4    1            0            0            50   \n",
       "15058             3     1    1         5455            0            40   \n",
       "15059             0     4    1            0            0            60   \n",
       "\n",
       "       native  Salary  salart_pred_test  \n",
       "0          37       0                 0  \n",
       "1          37       0                 0  \n",
       "2          37       1                 0  \n",
       "3          37       1                 1  \n",
       "4          37       0                 0  \n",
       "...       ...     ...               ...  \n",
       "15055      37       0                 0  \n",
       "15056      37       0                 0  \n",
       "15057      37       0                 1  \n",
       "15058      37       0                 0  \n",
       "15059      37       1                 1  \n",
       "\n",
       "[15060 rows x 15 columns]"
      ]
     },
     "execution_count": 28,
     "metadata": {},
     "output_type": "execute_result"
    }
   ],
   "source": [
    "df['salart_pred_test']=pd.Series(salart_pred_test)\n",
    "df"
   ]
  },
  {
   "cell_type": "code",
   "execution_count": null,
   "id": "c56c35af",
   "metadata": {},
   "outputs": [],
   "source": []
  },
  {
   "cell_type": "code",
   "execution_count": null,
   "id": "a70964a4",
   "metadata": {},
   "outputs": [],
   "source": []
  }
 ],
 "metadata": {
  "kernelspec": {
   "display_name": "Python 3 (ipykernel)",
   "language": "python",
   "name": "python3"
  },
  "language_info": {
   "codemirror_mode": {
    "name": "ipython",
    "version": 3
   },
   "file_extension": ".py",
   "mimetype": "text/x-python",
   "name": "python",
   "nbconvert_exporter": "python",
   "pygments_lexer": "ipython3",
   "version": "3.9.12"
  }
 },
 "nbformat": 4,
 "nbformat_minor": 5
}
