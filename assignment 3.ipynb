{
 "cells": [
  {
   "cell_type": "code",
   "execution_count": 51,
   "id": "7ecaa00c",
   "metadata": {
    "ExecuteTime": {
     "end_time": "2022-08-19T12:10:50.584707Z",
     "start_time": "2022-08-19T12:10:50.570087Z"
    }
   },
   "outputs": [],
   "source": [
    "%matplotlib inline\n",
    "import pandas as pd\n",
    "import numpy as np\n",
    "import matplotlib.pyplot as plt\n",
    "import seaborn as sns\n",
    "import scipy as scipy\n",
    "from scipy import stats\n"
   ]
  },
  {
   "cell_type": "raw",
   "id": "faa95de2",
   "metadata": {},
   "source": [
    "1.A F&B manager wants to determine whether there is any significant difference in the diameter of the cutlet between two units. A randomly selected sample of cutlets was collected from both units and measured? Analyze the data and draw inferences at 5% significance level. Please state the assumptions and tests that you carried out to check validity of the assumptions.\n"
   ]
  },
  {
   "cell_type": "code",
   "execution_count": 52,
   "id": "2406eae4",
   "metadata": {
    "ExecuteTime": {
     "end_time": "2022-08-19T12:10:50.613793Z",
     "start_time": "2022-08-19T12:10:50.592158Z"
    }
   },
   "outputs": [],
   "source": [
    "Cutlets=pd.read_csv('Cutlets.csv')"
   ]
  },
  {
   "cell_type": "code",
   "execution_count": 53,
   "id": "64728c30",
   "metadata": {
    "ExecuteTime": {
     "end_time": "2022-08-19T12:10:50.635759Z",
     "start_time": "2022-08-19T12:10:50.617851Z"
    }
   },
   "outputs": [
    {
     "data": {
      "text/html": [
       "<div>\n",
       "<style scoped>\n",
       "    .dataframe tbody tr th:only-of-type {\n",
       "        vertical-align: middle;\n",
       "    }\n",
       "\n",
       "    .dataframe tbody tr th {\n",
       "        vertical-align: top;\n",
       "    }\n",
       "\n",
       "    .dataframe thead th {\n",
       "        text-align: right;\n",
       "    }\n",
       "</style>\n",
       "<table border=\"1\" class=\"dataframe\">\n",
       "  <thead>\n",
       "    <tr style=\"text-align: right;\">\n",
       "      <th></th>\n",
       "      <th>Unit A</th>\n",
       "      <th>Unit B</th>\n",
       "    </tr>\n",
       "  </thead>\n",
       "  <tbody>\n",
       "    <tr>\n",
       "      <th>0</th>\n",
       "      <td>6.8090</td>\n",
       "      <td>6.7703</td>\n",
       "    </tr>\n",
       "    <tr>\n",
       "      <th>1</th>\n",
       "      <td>6.4376</td>\n",
       "      <td>7.5093</td>\n",
       "    </tr>\n",
       "    <tr>\n",
       "      <th>2</th>\n",
       "      <td>6.9157</td>\n",
       "      <td>6.7300</td>\n",
       "    </tr>\n",
       "    <tr>\n",
       "      <th>3</th>\n",
       "      <td>7.3012</td>\n",
       "      <td>6.7878</td>\n",
       "    </tr>\n",
       "    <tr>\n",
       "      <th>4</th>\n",
       "      <td>7.4488</td>\n",
       "      <td>7.1522</td>\n",
       "    </tr>\n",
       "  </tbody>\n",
       "</table>\n",
       "</div>"
      ],
      "text/plain": [
       "   Unit A  Unit B\n",
       "0  6.8090  6.7703\n",
       "1  6.4376  7.5093\n",
       "2  6.9157  6.7300\n",
       "3  7.3012  6.7878\n",
       "4  7.4488  7.1522"
      ]
     },
     "execution_count": 53,
     "metadata": {},
     "output_type": "execute_result"
    }
   ],
   "source": [
    "Cutlets.head()"
   ]
  },
  {
   "cell_type": "code",
   "execution_count": 54,
   "id": "fb5635f4",
   "metadata": {
    "ExecuteTime": {
     "end_time": "2022-08-19T12:10:50.648557Z",
     "start_time": "2022-08-19T12:10:50.637753Z"
    }
   },
   "outputs": [
    {
     "data": {
      "text/html": [
       "<div>\n",
       "<style scoped>\n",
       "    .dataframe tbody tr th:only-of-type {\n",
       "        vertical-align: middle;\n",
       "    }\n",
       "\n",
       "    .dataframe tbody tr th {\n",
       "        vertical-align: top;\n",
       "    }\n",
       "\n",
       "    .dataframe thead th {\n",
       "        text-align: right;\n",
       "    }\n",
       "</style>\n",
       "<table border=\"1\" class=\"dataframe\">\n",
       "  <thead>\n",
       "    <tr style=\"text-align: right;\">\n",
       "      <th></th>\n",
       "      <th>Unit A</th>\n",
       "      <th>Unit B</th>\n",
       "    </tr>\n",
       "  </thead>\n",
       "  <tbody>\n",
       "    <tr>\n",
       "      <th>30</th>\n",
       "      <td>6.7794</td>\n",
       "      <td>7.0992</td>\n",
       "    </tr>\n",
       "    <tr>\n",
       "      <th>31</th>\n",
       "      <td>7.2783</td>\n",
       "      <td>7.1180</td>\n",
       "    </tr>\n",
       "    <tr>\n",
       "      <th>32</th>\n",
       "      <td>7.1561</td>\n",
       "      <td>6.6965</td>\n",
       "    </tr>\n",
       "    <tr>\n",
       "      <th>33</th>\n",
       "      <td>7.3943</td>\n",
       "      <td>6.5780</td>\n",
       "    </tr>\n",
       "    <tr>\n",
       "      <th>34</th>\n",
       "      <td>6.9405</td>\n",
       "      <td>7.3875</td>\n",
       "    </tr>\n",
       "  </tbody>\n",
       "</table>\n",
       "</div>"
      ],
      "text/plain": [
       "    Unit A  Unit B\n",
       "30  6.7794  7.0992\n",
       "31  7.2783  7.1180\n",
       "32  7.1561  6.6965\n",
       "33  7.3943  6.5780\n",
       "34  6.9405  7.3875"
      ]
     },
     "execution_count": 54,
     "metadata": {},
     "output_type": "execute_result"
    }
   ],
   "source": [
    "Cutlets.tail()"
   ]
  },
  {
   "cell_type": "code",
   "execution_count": 55,
   "id": "19abf0f8",
   "metadata": {
    "ExecuteTime": {
     "end_time": "2022-08-19T12:10:50.670094Z",
     "start_time": "2022-08-19T12:10:50.652287Z"
    }
   },
   "outputs": [
    {
     "name": "stdout",
     "output_type": "stream",
     "text": [
      "<class 'pandas.core.frame.DataFrame'>\n",
      "RangeIndex: 35 entries, 0 to 34\n",
      "Data columns (total 2 columns):\n",
      " #   Column  Non-Null Count  Dtype  \n",
      "---  ------  --------------  -----  \n",
      " 0   Unit A  35 non-null     float64\n",
      " 1   Unit B  35 non-null     float64\n",
      "dtypes: float64(2)\n",
      "memory usage: 688.0 bytes\n"
     ]
    }
   ],
   "source": [
    "Cutlets.info()"
   ]
  },
  {
   "cell_type": "code",
   "execution_count": 56,
   "id": "0dee0d48",
   "metadata": {
    "ExecuteTime": {
     "end_time": "2022-08-19T12:10:50.697830Z",
     "start_time": "2022-08-19T12:10:50.671090Z"
    }
   },
   "outputs": [
    {
     "data": {
      "text/html": [
       "<div>\n",
       "<style scoped>\n",
       "    .dataframe tbody tr th:only-of-type {\n",
       "        vertical-align: middle;\n",
       "    }\n",
       "\n",
       "    .dataframe tbody tr th {\n",
       "        vertical-align: top;\n",
       "    }\n",
       "\n",
       "    .dataframe thead th {\n",
       "        text-align: right;\n",
       "    }\n",
       "</style>\n",
       "<table border=\"1\" class=\"dataframe\">\n",
       "  <thead>\n",
       "    <tr style=\"text-align: right;\">\n",
       "      <th></th>\n",
       "      <th>count</th>\n",
       "      <th>mean</th>\n",
       "      <th>std</th>\n",
       "      <th>min</th>\n",
       "      <th>25%</th>\n",
       "      <th>50%</th>\n",
       "      <th>75%</th>\n",
       "      <th>max</th>\n",
       "    </tr>\n",
       "  </thead>\n",
       "  <tbody>\n",
       "    <tr>\n",
       "      <th>Unit A</th>\n",
       "      <td>35.0</td>\n",
       "      <td>7.019091</td>\n",
       "      <td>0.288408</td>\n",
       "      <td>6.4376</td>\n",
       "      <td>6.8315</td>\n",
       "      <td>6.9438</td>\n",
       "      <td>7.28055</td>\n",
       "      <td>7.5169</td>\n",
       "    </tr>\n",
       "    <tr>\n",
       "      <th>Unit B</th>\n",
       "      <td>35.0</td>\n",
       "      <td>6.964297</td>\n",
       "      <td>0.343401</td>\n",
       "      <td>6.0380</td>\n",
       "      <td>6.7536</td>\n",
       "      <td>6.9399</td>\n",
       "      <td>7.19500</td>\n",
       "      <td>7.5459</td>\n",
       "    </tr>\n",
       "  </tbody>\n",
       "</table>\n",
       "</div>"
      ],
      "text/plain": [
       "        count      mean       std     min     25%     50%      75%     max\n",
       "Unit A   35.0  7.019091  0.288408  6.4376  6.8315  6.9438  7.28055  7.5169\n",
       "Unit B   35.0  6.964297  0.343401  6.0380  6.7536  6.9399  7.19500  7.5459"
      ]
     },
     "execution_count": 56,
     "metadata": {},
     "output_type": "execute_result"
    }
   ],
   "source": [
    "Cutlets.describe().transpose()"
   ]
  },
  {
   "cell_type": "code",
   "execution_count": 57,
   "id": "85c911a6",
   "metadata": {
    "ExecuteTime": {
     "end_time": "2022-08-19T12:10:50.706504Z",
     "start_time": "2022-08-19T12:10:50.699843Z"
    }
   },
   "outputs": [],
   "source": [
    "import warnings\n",
    "warnings.filterwarnings('ignore')\n",
    "\n"
   ]
  },
  {
   "cell_type": "code",
   "execution_count": 58,
   "id": "e47e4919",
   "metadata": {
    "ExecuteTime": {
     "end_time": "2022-08-19T12:10:51.064918Z",
     "start_time": "2022-08-19T12:10:50.707582Z"
    }
   },
   "outputs": [
    {
     "data": {
      "text/plain": [
       "<matplotlib.legend.Legend at 0x243a6b4e7c0>"
      ]
     },
     "execution_count": 58,
     "metadata": {},
     "output_type": "execute_result"
    },
    {
     "data": {
      "image/png": "[encoded data removed]",
      "text/plain": [
       "<Figure size 432x288 with 1 Axes>"
      ]
     },
     "metadata": {
      "needs_background": "light"
     },
     "output_type": "display_data"
    }
   ],
   "source": [
    "sns.distplot(Cutlets['Unit A'])\n",
    "sns.distplot(Cutlets['Unit B'])\n",
    "plt.legend(['Unit A','Unit B'])"
   ]
  },
  {
   "cell_type": "code",
   "execution_count": 59,
   "id": "3ed7b46c",
   "metadata": {
    "ExecuteTime": {
     "end_time": "2022-08-19T12:10:51.383713Z",
     "start_time": "2022-08-19T12:10:51.064918Z"
    }
   },
   "outputs": [
    {
     "data": {
      "text/plain": [
       "<matplotlib.legend.Legend at 0x243abe899a0>"
      ]
     },
     "execution_count": 59,
     "metadata": {},
     "output_type": "execute_result"
    },
    {
     "data": {
      "image/png": "[encoded data removed]",
      "text/plain": [
       "<Figure size 432x288 with 1 Axes>"
      ]
     },
     "metadata": {
      "needs_background": "light"
     },
     "output_type": "display_data"
    }
   ],
   "source": [
    "sns.boxplot(data=[Cutlets['Unit A'],Cutlets['Unit B']])\n",
    "\n",
    "plt.legend(['Unit A','Unit B'])"
   ]
  },
  {
   "cell_type": "raw",
   "id": "61e8e76d",
   "metadata": {},
   "source": [
    "Assume H0:thire no difference between unit A and unit B sample diameters \n",
    "Assume H1: the units A and unit B sample diameter are not same sum significance differnce thire"
   ]
  },
  {
   "cell_type": "code",
   "execution_count": 60,
   "id": "176fa48a",
   "metadata": {
    "ExecuteTime": {
     "end_time": "2022-08-19T12:10:51.400809Z",
     "start_time": "2022-08-19T12:10:51.385350Z"
    }
   },
   "outputs": [],
   "source": [
    "unitA=pd.Series(Cutlets.iloc[:,0])\n",
    "unitB=pd.Series(Cutlets.iloc[:,1])\n"
   ]
  },
  {
   "cell_type": "code",
   "execution_count": 61,
   "id": "d6a20511",
   "metadata": {
    "ExecuteTime": {
     "end_time": "2022-08-19T12:10:51.414277Z",
     "start_time": "2022-08-19T12:10:51.405823Z"
    }
   },
   "outputs": [
    {
     "data": {
      "text/plain": [
       "Ttest_indResult(statistic=0.7228688704678063, pvalue=0.4722394724599501)"
      ]
     },
     "execution_count": 61,
     "metadata": {},
     "output_type": "execute_result"
    }
   ],
   "source": [
    "p_value=stats.ttest_ind(unitA,unitB)\n",
    "p_value"
   ]
  },
  {
   "cell_type": "code",
   "execution_count": 62,
   "id": "9a563e1f",
   "metadata": {
    "ExecuteTime": {
     "end_time": "2022-08-19T12:10:51.427301Z",
     "start_time": "2022-08-19T12:10:51.414277Z"
    }
   },
   "outputs": [
    {
     "name": "stdout",
     "output_type": "stream",
     "text": [
      "H0:accept null hypothesis\n"
     ]
    }
   ],
   "source": [
    "p=0.4722394724599501\n",
    "if p>0.05:\n",
    "    print('H0:accept null hypothesis')\n",
    "else:\n",
    "    print('H1:accept alternative hypothesis')"
   ]
  },
  {
   "cell_type": "raw",
   "id": "429de1e4",
   "metadata": {
    "ExecuteTime": {
     "end_time": "2022-08-18T11:09:30.468764Z",
     "start_time": "2022-08-18T11:09:30.450378Z"
    }
   },
   "source": [
    "Concluesion:the two units sample diameters are same"
   ]
  },
  {
   "cell_type": "raw",
   "id": "dc933e5c",
   "metadata": {},
   "source": [
    "2.A hospital wants to determine whether there is any difference in the average Turn Around Time (TAT) of reports of the laboratories on their preferred list. They collected a random sample and recorded TAT for reports of 4 laboratories. TAT is defined as sample collected to report dispatch.\n",
    "   \n",
    "  Analyze the data and determine whether there is any difference in average TAT among the different laboratories at 5% significance level.\n"
   ]
  },
  {
   "cell_type": "code",
   "execution_count": 63,
   "id": "284fb92c",
   "metadata": {
    "ExecuteTime": {
     "end_time": "2022-08-19T12:10:51.442873Z",
     "start_time": "2022-08-19T12:10:51.428896Z"
    }
   },
   "outputs": [],
   "source": [
    "Labtat=pd.read_csv('LabTAT.csv')"
   ]
  },
  {
   "cell_type": "code",
   "execution_count": 64,
   "id": "10ad0c7d",
   "metadata": {
    "ExecuteTime": {
     "end_time": "2022-08-19T12:10:51.462721Z",
     "start_time": "2022-08-19T12:10:51.445931Z"
    }
   },
   "outputs": [
    {
     "data": {
      "text/html": [
       "<div>\n",
       "<style scoped>\n",
       "    .dataframe tbody tr th:only-of-type {\n",
       "        vertical-align: middle;\n",
       "    }\n",
       "\n",
       "    .dataframe tbody tr th {\n",
       "        vertical-align: top;\n",
       "    }\n",
       "\n",
       "    .dataframe thead th {\n",
       "        text-align: right;\n",
       "    }\n",
       "</style>\n",
       "<table border=\"1\" class=\"dataframe\">\n",
       "  <thead>\n",
       "    <tr style=\"text-align: right;\">\n",
       "      <th></th>\n",
       "      <th>Laboratory 1</th>\n",
       "      <th>Laboratory 2</th>\n",
       "      <th>Laboratory 3</th>\n",
       "      <th>Laboratory 4</th>\n",
       "    </tr>\n",
       "  </thead>\n",
       "  <tbody>\n",
       "    <tr>\n",
       "      <th>0</th>\n",
       "      <td>185.35</td>\n",
       "      <td>165.53</td>\n",
       "      <td>176.70</td>\n",
       "      <td>166.13</td>\n",
       "    </tr>\n",
       "    <tr>\n",
       "      <th>1</th>\n",
       "      <td>170.49</td>\n",
       "      <td>185.91</td>\n",
       "      <td>198.45</td>\n",
       "      <td>160.79</td>\n",
       "    </tr>\n",
       "    <tr>\n",
       "      <th>2</th>\n",
       "      <td>192.77</td>\n",
       "      <td>194.92</td>\n",
       "      <td>201.23</td>\n",
       "      <td>185.18</td>\n",
       "    </tr>\n",
       "    <tr>\n",
       "      <th>3</th>\n",
       "      <td>177.33</td>\n",
       "      <td>183.00</td>\n",
       "      <td>199.61</td>\n",
       "      <td>176.42</td>\n",
       "    </tr>\n",
       "    <tr>\n",
       "      <th>4</th>\n",
       "      <td>193.41</td>\n",
       "      <td>169.57</td>\n",
       "      <td>204.63</td>\n",
       "      <td>152.60</td>\n",
       "    </tr>\n",
       "  </tbody>\n",
       "</table>\n",
       "</div>"
      ],
      "text/plain": [
       "   Laboratory 1  Laboratory 2  Laboratory 3  Laboratory 4\n",
       "0        185.35        165.53        176.70        166.13\n",
       "1        170.49        185.91        198.45        160.79\n",
       "2        192.77        194.92        201.23        185.18\n",
       "3        177.33        183.00        199.61        176.42\n",
       "4        193.41        169.57        204.63        152.60"
      ]
     },
     "execution_count": 64,
     "metadata": {},
     "output_type": "execute_result"
    }
   ],
   "source": [
    "Labtat.head()"
   ]
  },
  {
   "cell_type": "code",
   "execution_count": 65,
   "id": "3cfb5956",
   "metadata": {
    "ExecuteTime": {
     "end_time": "2022-08-19T12:10:51.478803Z",
     "start_time": "2022-08-19T12:10:51.462721Z"
    }
   },
   "outputs": [
    {
     "data": {
      "text/html": [
       "<div>\n",
       "<style scoped>\n",
       "    .dataframe tbody tr th:only-of-type {\n",
       "        vertical-align: middle;\n",
       "    }\n",
       "\n",
       "    .dataframe tbody tr th {\n",
       "        vertical-align: top;\n",
       "    }\n",
       "\n",
       "    .dataframe thead th {\n",
       "        text-align: right;\n",
       "    }\n",
       "</style>\n",
       "<table border=\"1\" class=\"dataframe\">\n",
       "  <thead>\n",
       "    <tr style=\"text-align: right;\">\n",
       "      <th></th>\n",
       "      <th>Laboratory 1</th>\n",
       "      <th>Laboratory 2</th>\n",
       "      <th>Laboratory 3</th>\n",
       "      <th>Laboratory 4</th>\n",
       "    </tr>\n",
       "  </thead>\n",
       "  <tbody>\n",
       "    <tr>\n",
       "      <th>115</th>\n",
       "      <td>178.49</td>\n",
       "      <td>170.66</td>\n",
       "      <td>193.80</td>\n",
       "      <td>172.68</td>\n",
       "    </tr>\n",
       "    <tr>\n",
       "      <th>116</th>\n",
       "      <td>176.08</td>\n",
       "      <td>183.98</td>\n",
       "      <td>215.25</td>\n",
       "      <td>177.64</td>\n",
       "    </tr>\n",
       "    <tr>\n",
       "      <th>117</th>\n",
       "      <td>202.48</td>\n",
       "      <td>174.54</td>\n",
       "      <td>203.99</td>\n",
       "      <td>170.27</td>\n",
       "    </tr>\n",
       "    <tr>\n",
       "      <th>118</th>\n",
       "      <td>182.40</td>\n",
       "      <td>197.18</td>\n",
       "      <td>194.52</td>\n",
       "      <td>150.87</td>\n",
       "    </tr>\n",
       "    <tr>\n",
       "      <th>119</th>\n",
       "      <td>182.09</td>\n",
       "      <td>215.17</td>\n",
       "      <td>221.49</td>\n",
       "      <td>162.21</td>\n",
       "    </tr>\n",
       "  </tbody>\n",
       "</table>\n",
       "</div>"
      ],
      "text/plain": [
       "     Laboratory 1  Laboratory 2  Laboratory 3  Laboratory 4\n",
       "115        178.49        170.66        193.80        172.68\n",
       "116        176.08        183.98        215.25        177.64\n",
       "117        202.48        174.54        203.99        170.27\n",
       "118        182.40        197.18        194.52        150.87\n",
       "119        182.09        215.17        221.49        162.21"
      ]
     },
     "execution_count": 65,
     "metadata": {},
     "output_type": "execute_result"
    }
   ],
   "source": [
    "Labtat.tail()"
   ]
  },
  {
   "cell_type": "code",
   "execution_count": 66,
   "id": "5296a29e",
   "metadata": {
    "ExecuteTime": {
     "end_time": "2022-08-19T12:10:51.487881Z",
     "start_time": "2022-08-19T12:10:51.480448Z"
    }
   },
   "outputs": [
    {
     "data": {
      "text/plain": [
       "(120, 4)"
      ]
     },
     "execution_count": 66,
     "metadata": {},
     "output_type": "execute_result"
    }
   ],
   "source": [
    "Labtat.shape"
   ]
  },
  {
   "cell_type": "code",
   "execution_count": 67,
   "id": "c652b72f",
   "metadata": {
    "ExecuteTime": {
     "end_time": "2022-08-19T12:10:51.520045Z",
     "start_time": "2022-08-19T12:10:51.488878Z"
    }
   },
   "outputs": [
    {
     "data": {
      "text/html": [
       "<div>\n",
       "<style scoped>\n",
       "    .dataframe tbody tr th:only-of-type {\n",
       "        vertical-align: middle;\n",
       "    }\n",
       "\n",
       "    .dataframe tbody tr th {\n",
       "        vertical-align: top;\n",
       "    }\n",
       "\n",
       "    .dataframe thead th {\n",
       "        text-align: right;\n",
       "    }\n",
       "</style>\n",
       "<table border=\"1\" class=\"dataframe\">\n",
       "  <thead>\n",
       "    <tr style=\"text-align: right;\">\n",
       "      <th></th>\n",
       "      <th>count</th>\n",
       "      <th>mean</th>\n",
       "      <th>std</th>\n",
       "      <th>min</th>\n",
       "      <th>25%</th>\n",
       "      <th>50%</th>\n",
       "      <th>75%</th>\n",
       "      <th>max</th>\n",
       "    </tr>\n",
       "  </thead>\n",
       "  <tbody>\n",
       "    <tr>\n",
       "      <th>Laboratory 1</th>\n",
       "      <td>120.0</td>\n",
       "      <td>178.361583</td>\n",
       "      <td>13.173594</td>\n",
       "      <td>138.30</td>\n",
       "      <td>170.3350</td>\n",
       "      <td>178.530</td>\n",
       "      <td>186.5350</td>\n",
       "      <td>216.39</td>\n",
       "    </tr>\n",
       "    <tr>\n",
       "      <th>Laboratory 2</th>\n",
       "      <td>120.0</td>\n",
       "      <td>178.902917</td>\n",
       "      <td>14.957114</td>\n",
       "      <td>140.55</td>\n",
       "      <td>168.0250</td>\n",
       "      <td>178.870</td>\n",
       "      <td>189.1125</td>\n",
       "      <td>217.86</td>\n",
       "    </tr>\n",
       "    <tr>\n",
       "      <th>Laboratory 3</th>\n",
       "      <td>120.0</td>\n",
       "      <td>199.913250</td>\n",
       "      <td>16.539033</td>\n",
       "      <td>159.69</td>\n",
       "      <td>188.2325</td>\n",
       "      <td>199.805</td>\n",
       "      <td>211.3325</td>\n",
       "      <td>238.70</td>\n",
       "    </tr>\n",
       "    <tr>\n",
       "      <th>Laboratory 4</th>\n",
       "      <td>120.0</td>\n",
       "      <td>163.682750</td>\n",
       "      <td>15.085080</td>\n",
       "      <td>124.06</td>\n",
       "      <td>154.0500</td>\n",
       "      <td>164.425</td>\n",
       "      <td>172.8825</td>\n",
       "      <td>205.18</td>\n",
       "    </tr>\n",
       "  </tbody>\n",
       "</table>\n",
       "</div>"
      ],
      "text/plain": [
       "              count        mean        std     min       25%      50%  \\\n",
       "Laboratory 1  120.0  178.361583  13.173594  138.30  170.3350  178.530   \n",
       "Laboratory 2  120.0  178.902917  14.957114  140.55  168.0250  178.870   \n",
       "Laboratory 3  120.0  199.913250  16.539033  159.69  188.2325  199.805   \n",
       "Laboratory 4  120.0  163.682750  15.085080  124.06  154.0500  164.425   \n",
       "\n",
       "                   75%     max  \n",
       "Laboratory 1  186.5350  216.39  \n",
       "Laboratory 2  189.1125  217.86  \n",
       "Laboratory 3  211.3325  238.70  \n",
       "Laboratory 4  172.8825  205.18  "
      ]
     },
     "execution_count": 67,
     "metadata": {},
     "output_type": "execute_result"
    }
   ],
   "source": [
    "Labtat.describe().transpose()"
   ]
  },
  {
   "cell_type": "code",
   "execution_count": 68,
   "id": "47eaa8d0",
   "metadata": {
    "ExecuteTime": {
     "end_time": "2022-08-19T12:10:51.547309Z",
     "start_time": "2022-08-19T12:10:51.522041Z"
    }
   },
   "outputs": [
    {
     "name": "stdout",
     "output_type": "stream",
     "text": [
      "<class 'pandas.core.frame.DataFrame'>\n",
      "RangeIndex: 120 entries, 0 to 119\n",
      "Data columns (total 4 columns):\n",
      " #   Column        Non-Null Count  Dtype  \n",
      "---  ------        --------------  -----  \n",
      " 0   Laboratory 1  120 non-null    float64\n",
      " 1   Laboratory 2  120 non-null    float64\n",
      " 2   Laboratory 3  120 non-null    float64\n",
      " 3   Laboratory 4  120 non-null    float64\n",
      "dtypes: float64(4)\n",
      "memory usage: 3.9 KB\n"
     ]
    }
   ],
   "source": [
    "Labtat.info()"
   ]
  },
  {
   "cell_type": "code",
   "execution_count": 69,
   "id": "1bd70819",
   "metadata": {
    "ExecuteTime": {
     "end_time": "2022-08-19T12:10:51.569128Z",
     "start_time": "2022-08-19T12:10:51.550351Z"
    }
   },
   "outputs": [
    {
     "data": {
      "text/plain": [
       "['Laboratory 1', 'Laboratory 2', 'Laboratory 3', 'Laboratory 4']"
      ]
     },
     "execution_count": 69,
     "metadata": {},
     "output_type": "execute_result"
    }
   ],
   "source": [
    "list(Labtat)"
   ]
  },
  {
   "cell_type": "code",
   "execution_count": 70,
   "id": "a77b7528",
   "metadata": {
    "ExecuteTime": {
     "end_time": "2022-08-19T12:10:51.587625Z",
     "start_time": "2022-08-19T12:10:51.572138Z"
    }
   },
   "outputs": [
    {
     "data": {
      "text/plain": [
       "Laboratory 1    178.361583\n",
       "Laboratory 2    178.902917\n",
       "Laboratory 3    199.913250\n",
       "Laboratory 4    163.682750\n",
       "dtype: float64"
      ]
     },
     "execution_count": 70,
     "metadata": {},
     "output_type": "execute_result"
    }
   ],
   "source": [
    "Labtat.mean()"
   ]
  },
  {
   "cell_type": "code",
   "execution_count": 71,
   "id": "65b3f19d",
   "metadata": {
    "ExecuteTime": {
     "end_time": "2022-08-19T12:10:51.606550Z",
     "start_time": "2022-08-19T12:10:51.591691Z"
    }
   },
   "outputs": [
    {
     "name": "stdout",
     "output_type": "stream",
     "text": [
      "Laboratory_1 > Laboratory_2 =  False\n",
      "Laboratory_2 > Laboratory_3 =  False\n",
      "Laboratory_3 > Laboratory_4 =  True\n",
      "Laboratory_4 > Laboratory_1 =  False\n"
     ]
    }
   ],
   "source": [
    "print('Laboratory_1 > Laboratory_2 = ', 178.361583>178.902917 )\n",
    "print('Laboratory_2 > Laboratory_3 = ',178.902917> 199.913250)\n",
    "print('Laboratory_3 > Laboratory_4 = ',199.913250 >163.682750)\n",
    "print('Laboratory_4 > Laboratory_1 = ',163.682750 > 178.361583)"
   ]
  },
  {
   "cell_type": "code",
   "execution_count": 72,
   "id": "ad046597",
   "metadata": {
    "ExecuteTime": {
     "end_time": "2022-08-19T12:10:51.615517Z",
     "start_time": "2022-08-19T12:10:51.609510Z"
    }
   },
   "outputs": [],
   "source": [
    "import warnings\n",
    "warnings.filterwarnings('ignore')"
   ]
  },
  {
   "cell_type": "code",
   "execution_count": 73,
   "id": "850babb7",
   "metadata": {
    "ExecuteTime": {
     "end_time": "2022-08-19T12:10:52.521703Z",
     "start_time": "2022-08-19T12:10:51.621501Z"
    }
   },
   "outputs": [
    {
     "data": {
      "text/plain": [
       "<matplotlib.legend.Legend at 0x243ac33e0d0>"
      ]
     },
     "execution_count": 73,
     "metadata": {},
     "output_type": "execute_result"
    },
    {
     "data": {
      "image/png": "[encoded data removed]",
      "text/plain": [
       "<Figure size 432x288 with 1 Axes>"
      ]
     },
     "metadata": {
      "needs_background": "light"
     },
     "output_type": "display_data"
    }
   ],
   "source": [
    "sns.distplot(Labtat['Laboratory 1'])\n",
    "sns.distplot(Labtat['Laboratory 2'])\n",
    "sns.distplot(Labtat['Laboratory 3'])\n",
    "sns.distplot(Labtat['Laboratory 4'])\n",
    "plt.legend(['Laboratory 1','Laboratory 2','Laboratory 3','Laboratory 4'])"
   ]
  },
  {
   "cell_type": "code",
   "execution_count": 74,
   "id": "b024c9c7",
   "metadata": {
    "ExecuteTime": {
     "end_time": "2022-08-19T12:10:52.769189Z",
     "start_time": "2022-08-19T12:10:52.525048Z"
    }
   },
   "outputs": [
    {
     "data": {
      "image/png": "[encoded data removed]",
      "text/plain": [
       "<Figure size 432x288 with 1 Axes>"
      ]
     },
     "metadata": {
      "needs_background": "light"
     },
     "output_type": "display_data"
    }
   ],
   "source": [
    "sns.boxplot(data=[Labtat['Laboratory 1'],Labtat['Laboratory 2'],Labtat['Laboratory 3'],Labtat['Laboratory 4']],notch=False)\n",
    "plt.show()"
   ]
  },
  {
   "cell_type": "raw",
   "id": "e796eab2",
   "metadata": {},
   "source": [
    "Assueming all laboratory samples are same thir is no difference H0:μ1=μ2=μ3=μ4=μ5\n",
    "Assueming at least one labbarotory samples difference other laborotory samples H1:μ1≠μ2≠μ3≠μ4"
   ]
  },
  {
   "cell_type": "code",
   "execution_count": 75,
   "id": "8a5d7eda",
   "metadata": {
    "ExecuteTime": {
     "end_time": "2022-08-19T12:10:52.793163Z",
     "start_time": "2022-08-19T12:10:52.771216Z"
    }
   },
   "outputs": [
    {
     "data": {
      "text/plain": [
       "F_onewayResult(statistic=118.70421654401437, pvalue=2.1156708949992414e-57)"
      ]
     },
     "execution_count": 75,
     "metadata": {},
     "output_type": "execute_result"
    }
   ],
   "source": [
    "Labtat.columns='Laboratory 1','Laboratory 2','Laboratory 3','Laboratory 4'  \n",
    "labtatresults=stats.f_oneway(Labtat.iloc[:,0], Labtat.iloc[:,1],Labtat.iloc[:,2],Labtat.iloc[:,3])  \n",
    "labtatresults"
   ]
  },
  {
   "cell_type": "code",
   "execution_count": 76,
   "id": "858fc53c",
   "metadata": {
    "ExecuteTime": {
     "end_time": "2022-08-19T12:10:52.817747Z",
     "start_time": "2022-08-19T12:10:52.797781Z"
    }
   },
   "outputs": [
    {
     "name": "stdout",
     "output_type": "stream",
     "text": [
      "H1:accept alternative hypothesis\n"
     ]
    }
   ],
   "source": [
    "p=2.1156708949992414e-57\n",
    "if p>0.05:\n",
    "    print('H0:accept null hypothesis')\n",
    "else:\n",
    "    print('H1:accept alternative hypothesis')"
   ]
  },
  {
   "cell_type": "raw",
   "id": "5f153f50",
   "metadata": {},
   "source": [
    "Concluesion:the 4 labarotory samples are not same  thire is sum significance difference between  4 labarotory samples "
   ]
  },
  {
   "cell_type": "raw",
   "id": "bf35b6f3",
   "metadata": {},
   "source": []
  },
  {
   "cell_type": "raw",
   "id": "ba593dbb",
   "metadata": {},
   "source": [
    "3.Sales of products in four different regions is tabulated for males and females. Find if male-female buyer rations are similar across regions."
   ]
  },
  {
   "cell_type": "code",
   "execution_count": 77,
   "id": "532f97b4",
   "metadata": {
    "ExecuteTime": {
     "end_time": "2022-08-19T12:10:52.834819Z",
     "start_time": "2022-08-19T12:10:52.819741Z"
    }
   },
   "outputs": [],
   "source": [
    "BuyerRatio=pd.read_csv('BuyerRatio.csv')"
   ]
  },
  {
   "cell_type": "code",
   "execution_count": 78,
   "id": "1106c0a5",
   "metadata": {
    "ExecuteTime": {
     "end_time": "2022-08-19T12:10:52.853604Z",
     "start_time": "2022-08-19T12:10:52.838303Z"
    }
   },
   "outputs": [
    {
     "data": {
      "text/html": [
       "<div>\n",
       "<style scoped>\n",
       "    .dataframe tbody tr th:only-of-type {\n",
       "        vertical-align: middle;\n",
       "    }\n",
       "\n",
       "    .dataframe tbody tr th {\n",
       "        vertical-align: top;\n",
       "    }\n",
       "\n",
       "    .dataframe thead th {\n",
       "        text-align: right;\n",
       "    }\n",
       "</style>\n",
       "<table border=\"1\" class=\"dataframe\">\n",
       "  <thead>\n",
       "    <tr style=\"text-align: right;\">\n",
       "      <th></th>\n",
       "      <th>Observed Values</th>\n",
       "      <th>East</th>\n",
       "      <th>West</th>\n",
       "      <th>North</th>\n",
       "      <th>South</th>\n",
       "    </tr>\n",
       "  </thead>\n",
       "  <tbody>\n",
       "    <tr>\n",
       "      <th>0</th>\n",
       "      <td>Males</td>\n",
       "      <td>50</td>\n",
       "      <td>142</td>\n",
       "      <td>131</td>\n",
       "      <td>70</td>\n",
       "    </tr>\n",
       "    <tr>\n",
       "      <th>1</th>\n",
       "      <td>Females</td>\n",
       "      <td>435</td>\n",
       "      <td>1523</td>\n",
       "      <td>1356</td>\n",
       "      <td>750</td>\n",
       "    </tr>\n",
       "  </tbody>\n",
       "</table>\n",
       "</div>"
      ],
      "text/plain": [
       "  Observed Values  East  West  North  South\n",
       "0           Males    50   142    131     70\n",
       "1         Females   435  1523   1356    750"
      ]
     },
     "execution_count": 78,
     "metadata": {},
     "output_type": "execute_result"
    }
   ],
   "source": [
    "BuyerRatio"
   ]
  },
  {
   "cell_type": "code",
   "execution_count": 79,
   "id": "a1f003f2",
   "metadata": {
    "ExecuteTime": {
     "end_time": "2022-08-19T12:10:52.878258Z",
     "start_time": "2022-08-19T12:10:52.860026Z"
    }
   },
   "outputs": [
    {
     "name": "stdout",
     "output_type": "stream",
     "text": [
      "<class 'pandas.core.frame.DataFrame'>\n",
      "RangeIndex: 2 entries, 0 to 1\n",
      "Data columns (total 5 columns):\n",
      " #   Column           Non-Null Count  Dtype \n",
      "---  ------           --------------  ----- \n",
      " 0   Observed Values  2 non-null      object\n",
      " 1   East             2 non-null      int64 \n",
      " 2   West             2 non-null      int64 \n",
      " 3   North            2 non-null      int64 \n",
      " 4   South            2 non-null      int64 \n",
      "dtypes: int64(4), object(1)\n",
      "memory usage: 208.0+ bytes\n"
     ]
    }
   ],
   "source": [
    "BuyerRatio.info()"
   ]
  },
  {
   "cell_type": "code",
   "execution_count": 80,
   "id": "3c7cba46",
   "metadata": {
    "ExecuteTime": {
     "end_time": "2022-08-19T12:10:52.890447Z",
     "start_time": "2022-08-19T12:10:52.880246Z"
    }
   },
   "outputs": [
    {
     "data": {
      "text/plain": [
       "['Observed Values', 'East', 'West', 'North', 'South']"
      ]
     },
     "execution_count": 80,
     "metadata": {},
     "output_type": "execute_result"
    }
   ],
   "source": [
    "list(BuyerRatio)"
   ]
  },
  {
   "cell_type": "code",
   "execution_count": 81,
   "id": "71a23ac7",
   "metadata": {
    "ExecuteTime": {
     "end_time": "2022-08-19T12:10:52.926114Z",
     "start_time": "2022-08-19T12:10:52.892448Z"
    }
   },
   "outputs": [
    {
     "data": {
      "text/html": [
       "<div>\n",
       "<style scoped>\n",
       "    .dataframe tbody tr th:only-of-type {\n",
       "        vertical-align: middle;\n",
       "    }\n",
       "\n",
       "    .dataframe tbody tr th {\n",
       "        vertical-align: top;\n",
       "    }\n",
       "\n",
       "    .dataframe thead th {\n",
       "        text-align: right;\n",
       "    }\n",
       "</style>\n",
       "<table border=\"1\" class=\"dataframe\">\n",
       "  <thead>\n",
       "    <tr style=\"text-align: right;\">\n",
       "      <th></th>\n",
       "      <th>count</th>\n",
       "      <th>mean</th>\n",
       "      <th>std</th>\n",
       "      <th>min</th>\n",
       "      <th>25%</th>\n",
       "      <th>50%</th>\n",
       "      <th>75%</th>\n",
       "      <th>max</th>\n",
       "    </tr>\n",
       "  </thead>\n",
       "  <tbody>\n",
       "    <tr>\n",
       "      <th>East</th>\n",
       "      <td>2.0</td>\n",
       "      <td>242.5</td>\n",
       "      <td>272.236111</td>\n",
       "      <td>50.0</td>\n",
       "      <td>146.25</td>\n",
       "      <td>242.5</td>\n",
       "      <td>338.75</td>\n",
       "      <td>435.0</td>\n",
       "    </tr>\n",
       "    <tr>\n",
       "      <th>West</th>\n",
       "      <td>2.0</td>\n",
       "      <td>832.5</td>\n",
       "      <td>976.514465</td>\n",
       "      <td>142.0</td>\n",
       "      <td>487.25</td>\n",
       "      <td>832.5</td>\n",
       "      <td>1177.75</td>\n",
       "      <td>1523.0</td>\n",
       "    </tr>\n",
       "    <tr>\n",
       "      <th>North</th>\n",
       "      <td>2.0</td>\n",
       "      <td>743.5</td>\n",
       "      <td>866.205807</td>\n",
       "      <td>131.0</td>\n",
       "      <td>437.25</td>\n",
       "      <td>743.5</td>\n",
       "      <td>1049.75</td>\n",
       "      <td>1356.0</td>\n",
       "    </tr>\n",
       "    <tr>\n",
       "      <th>South</th>\n",
       "      <td>2.0</td>\n",
       "      <td>410.0</td>\n",
       "      <td>480.832611</td>\n",
       "      <td>70.0</td>\n",
       "      <td>240.00</td>\n",
       "      <td>410.0</td>\n",
       "      <td>580.00</td>\n",
       "      <td>750.0</td>\n",
       "    </tr>\n",
       "  </tbody>\n",
       "</table>\n",
       "</div>"
      ],
      "text/plain": [
       "       count   mean         std    min     25%    50%      75%     max\n",
       "East     2.0  242.5  272.236111   50.0  146.25  242.5   338.75   435.0\n",
       "West     2.0  832.5  976.514465  142.0  487.25  832.5  1177.75  1523.0\n",
       "North    2.0  743.5  866.205807  131.0  437.25  743.5  1049.75  1356.0\n",
       "South    2.0  410.0  480.832611   70.0  240.00  410.0   580.00   750.0"
      ]
     },
     "execution_count": 81,
     "metadata": {},
     "output_type": "execute_result"
    }
   ],
   "source": [
    "BuyerRatio.describe().transpose()"
   ]
  },
  {
   "cell_type": "code",
   "execution_count": 82,
   "id": "077f5b6a",
   "metadata": {
    "ExecuteTime": {
     "end_time": "2022-08-19T12:10:52.956861Z",
     "start_time": "2022-08-19T12:10:52.927113Z"
    }
   },
   "outputs": [
    {
     "data": {
      "text/plain": [
       "East     242.5\n",
       "West     832.5\n",
       "North    743.5\n",
       "South    410.0\n",
       "dtype: float64"
      ]
     },
     "execution_count": 82,
     "metadata": {},
     "output_type": "execute_result"
    }
   ],
   "source": [
    "BuyerRatio.mean()"
   ]
  },
  {
   "cell_type": "code",
   "execution_count": 83,
   "id": "955fea43",
   "metadata": {
    "ExecuteTime": {
     "end_time": "2022-08-19T12:10:52.966237Z",
     "start_time": "2022-08-19T12:10:52.958861Z"
    }
   },
   "outputs": [
    {
     "name": "stdout",
     "output_type": "stream",
     "text": [
      "East Mean =  242.5\n",
      "West Mean =  832.5\n",
      "North Mean =  743.5\n",
      "South Mean =  410\n"
     ]
    }
   ],
   "source": [
    "print('East Mean = ',242.5)\n",
    "print('West Mean = ',832.5)\n",
    "print('North Mean = ',743.5)\n",
    "print('South Mean = ',410)"
   ]
  },
  {
   "cell_type": "code",
   "execution_count": 84,
   "id": "37c7d7d6",
   "metadata": {
    "ExecuteTime": {
     "end_time": "2022-08-19T12:10:53.442713Z",
     "start_time": "2022-08-19T12:10:52.968707Z"
    }
   },
   "outputs": [
    {
     "data": {
      "text/plain": [
       "<matplotlib.legend.Legend at 0x243ad464070>"
      ]
     },
     "execution_count": 84,
     "metadata": {},
     "output_type": "execute_result"
    },
    {
     "data": {
      "image/png": "[encoded data removed]",
      "text/plain": [
       "<Figure size 432x288 with 1 Axes>"
      ]
     },
     "metadata": {
      "needs_background": "light"
     },
     "output_type": "display_data"
    }
   ],
   "source": [
    "sns.distplot(BuyerRatio['East'])\n",
    "sns.distplot(BuyerRatio['West'])\n",
    "sns.distplot(BuyerRatio['North'])\n",
    "sns.distplot(BuyerRatio['South'])\n",
    "plt.legend(['East','West','North','South'])"
   ]
  },
  {
   "cell_type": "code",
   "execution_count": 85,
   "id": "92867cf8",
   "metadata": {
    "ExecuteTime": {
     "end_time": "2022-08-19T12:10:53.863813Z",
     "start_time": "2022-08-19T12:10:53.442713Z"
    }
   },
   "outputs": [
    {
     "data": {
      "text/plain": [
       "<matplotlib.legend.Legend at 0x243ad47f040>"
      ]
     },
     "execution_count": 85,
     "metadata": {},
     "output_type": "execute_result"
    },
    {
     "data": {
      "image/png": "[encoded data removed]",
      "text/plain": [
       "<Figure size 432x288 with 1 Axes>"
      ]
     },
     "metadata": {
      "needs_background": "light"
     },
     "output_type": "display_data"
    }
   ],
   "source": [
    "sns.boxplot(data=[BuyerRatio['East'],BuyerRatio['West'],BuyerRatio['North'],BuyerRatio['South']],notch=False)\n",
    "plt.legend(['East','West','North','South'])"
   ]
  },
  {
   "cell_type": "code",
   "execution_count": 86,
   "id": "61aba42d",
   "metadata": {
    "ExecuteTime": {
     "end_time": "2022-08-19T12:10:53.879433Z",
     "start_time": "2022-08-19T12:10:53.863813Z"
    }
   },
   "outputs": [],
   "source": [
    "Male = [50,142,131,70]\n",
    "Female=[435,1523,1356,750]\n",
    "Sales=[Male,Female]"
   ]
  },
  {
   "cell_type": "code",
   "execution_count": 87,
   "id": "b23b5214",
   "metadata": {
    "ExecuteTime": {
     "end_time": "2022-08-19T12:10:53.895055Z",
     "start_time": "2022-08-19T12:10:53.879433Z"
    }
   },
   "outputs": [
    {
     "data": {
      "text/plain": [
       "[['', 'Test Statistic', 'p-value'],\n",
       " ['Sample Data', 1.595945538661058, 0.6603094907091882]]"
      ]
     },
     "execution_count": 87,
     "metadata": {},
     "output_type": "execute_result"
    }
   ],
   "source": [
    "BuyerRatio_results=scipy.stats.chi2_contingency(Sales)\n",
    "BuyerRatio_results=[['','Test Statistic','p-value'],['Sample Data',BuyerRatio_results[0],BuyerRatio_results[1]]]\n",
    "BuyerRatio_results"
   ]
  },
  {
   "cell_type": "raw",
   "id": "fbc36f94",
   "metadata": {},
   "source": [
    "assume H0: All proportions are equal\n",
    "assume H1:Not all Proportions are equal"
   ]
  },
  {
   "cell_type": "code",
   "execution_count": 103,
   "id": "05e6cbb5",
   "metadata": {
    "ExecuteTime": {
     "end_time": "2022-08-19T12:39:36.191612Z",
     "start_time": "2022-08-19T12:39:36.183920Z"
    }
   },
   "outputs": [
    {
     "name": "stdout",
     "output_type": "stream",
     "text": [
      "H0:accept null hypothesis\n"
     ]
    }
   ],
   "source": [
    "p=0.6603094907091882\n",
    "if p>0.05:\n",
    "    print('H0:accept null hypothesis')\n",
    "else:\n",
    "    print('H1:accept alternative hypothesis')"
   ]
  },
  {
   "cell_type": "raw",
   "id": "e97295e9",
   "metadata": {},
   "source": [
    "Conclusion: Female and male buyer rations are similar across regions  thire is significance difference between region"
   ]
  },
  {
   "cell_type": "raw",
   "id": "75833ea0",
   "metadata": {},
   "source": [
    "4.TeleCall uses 4 centers around the globe to process customer order forms. They audit a certain %  of the customer order forms. Any error in order form renders it defective and has to be reworked before processing.  The manager wants to check whether the defective %  varies by centre. Please analyze the data at 5% significance level and help the manager draw appropriate inferences\n"
   ]
  },
  {
   "cell_type": "code",
   "execution_count": 89,
   "id": "c72c01a7",
   "metadata": {
    "ExecuteTime": {
     "end_time": "2022-08-19T12:10:53.942320Z",
     "start_time": "2022-08-19T12:10:53.910674Z"
    }
   },
   "outputs": [
    {
     "data": {
      "text/html": [
       "<div>\n",
       "<style scoped>\n",
       "    .dataframe tbody tr th:only-of-type {\n",
       "        vertical-align: middle;\n",
       "    }\n",
       "\n",
       "    .dataframe tbody tr th {\n",
       "        vertical-align: top;\n",
       "    }\n",
       "\n",
       "    .dataframe thead th {\n",
       "        text-align: right;\n",
       "    }\n",
       "</style>\n",
       "<table border=\"1\" class=\"dataframe\">\n",
       "  <thead>\n",
       "    <tr style=\"text-align: right;\">\n",
       "      <th></th>\n",
       "      <th>Phillippines</th>\n",
       "      <th>Indonesia</th>\n",
       "      <th>Malta</th>\n",
       "      <th>India</th>\n",
       "    </tr>\n",
       "  </thead>\n",
       "  <tbody>\n",
       "    <tr>\n",
       "      <th>0</th>\n",
       "      <td>Error Free</td>\n",
       "      <td>Error Free</td>\n",
       "      <td>Defective</td>\n",
       "      <td>Error Free</td>\n",
       "    </tr>\n",
       "    <tr>\n",
       "      <th>1</th>\n",
       "      <td>Error Free</td>\n",
       "      <td>Error Free</td>\n",
       "      <td>Error Free</td>\n",
       "      <td>Defective</td>\n",
       "    </tr>\n",
       "    <tr>\n",
       "      <th>2</th>\n",
       "      <td>Error Free</td>\n",
       "      <td>Defective</td>\n",
       "      <td>Defective</td>\n",
       "      <td>Error Free</td>\n",
       "    </tr>\n",
       "    <tr>\n",
       "      <th>3</th>\n",
       "      <td>Error Free</td>\n",
       "      <td>Error Free</td>\n",
       "      <td>Error Free</td>\n",
       "      <td>Error Free</td>\n",
       "    </tr>\n",
       "    <tr>\n",
       "      <th>4</th>\n",
       "      <td>Error Free</td>\n",
       "      <td>Error Free</td>\n",
       "      <td>Defective</td>\n",
       "      <td>Error Free</td>\n",
       "    </tr>\n",
       "    <tr>\n",
       "      <th>...</th>\n",
       "      <td>...</td>\n",
       "      <td>...</td>\n",
       "      <td>...</td>\n",
       "      <td>...</td>\n",
       "    </tr>\n",
       "    <tr>\n",
       "      <th>295</th>\n",
       "      <td>Error Free</td>\n",
       "      <td>Error Free</td>\n",
       "      <td>Error Free</td>\n",
       "      <td>Error Free</td>\n",
       "    </tr>\n",
       "    <tr>\n",
       "      <th>296</th>\n",
       "      <td>Error Free</td>\n",
       "      <td>Error Free</td>\n",
       "      <td>Error Free</td>\n",
       "      <td>Error Free</td>\n",
       "    </tr>\n",
       "    <tr>\n",
       "      <th>297</th>\n",
       "      <td>Error Free</td>\n",
       "      <td>Error Free</td>\n",
       "      <td>Defective</td>\n",
       "      <td>Error Free</td>\n",
       "    </tr>\n",
       "    <tr>\n",
       "      <th>298</th>\n",
       "      <td>Error Free</td>\n",
       "      <td>Error Free</td>\n",
       "      <td>Error Free</td>\n",
       "      <td>Error Free</td>\n",
       "    </tr>\n",
       "    <tr>\n",
       "      <th>299</th>\n",
       "      <td>Error Free</td>\n",
       "      <td>Defective</td>\n",
       "      <td>Defective</td>\n",
       "      <td>Error Free</td>\n",
       "    </tr>\n",
       "  </tbody>\n",
       "</table>\n",
       "<p>300 rows × 4 columns</p>\n",
       "</div>"
      ],
      "text/plain": [
       "    Phillippines   Indonesia       Malta       India\n",
       "0     Error Free  Error Free   Defective  Error Free\n",
       "1     Error Free  Error Free  Error Free   Defective\n",
       "2     Error Free   Defective   Defective  Error Free\n",
       "3     Error Free  Error Free  Error Free  Error Free\n",
       "4     Error Free  Error Free   Defective  Error Free\n",
       "..           ...         ...         ...         ...\n",
       "295   Error Free  Error Free  Error Free  Error Free\n",
       "296   Error Free  Error Free  Error Free  Error Free\n",
       "297   Error Free  Error Free   Defective  Error Free\n",
       "298   Error Free  Error Free  Error Free  Error Free\n",
       "299   Error Free   Defective   Defective  Error Free\n",
       "\n",
       "[300 rows x 4 columns]"
      ]
     },
     "execution_count": 89,
     "metadata": {},
     "output_type": "execute_result"
    }
   ],
   "source": [
    "costomer=pd.read_csv('Costomer+OrderForm.csv')\n",
    "costomer"
   ]
  },
  {
   "cell_type": "code",
   "execution_count": 90,
   "id": "6be079db",
   "metadata": {
    "ExecuteTime": {
     "end_time": "2022-08-19T12:10:53.957947Z",
     "start_time": "2022-08-19T12:10:53.942320Z"
    }
   },
   "outputs": [
    {
     "data": {
      "text/html": [
       "<div>\n",
       "<style scoped>\n",
       "    .dataframe tbody tr th:only-of-type {\n",
       "        vertical-align: middle;\n",
       "    }\n",
       "\n",
       "    .dataframe tbody tr th {\n",
       "        vertical-align: top;\n",
       "    }\n",
       "\n",
       "    .dataframe thead th {\n",
       "        text-align: right;\n",
       "    }\n",
       "</style>\n",
       "<table border=\"1\" class=\"dataframe\">\n",
       "  <thead>\n",
       "    <tr style=\"text-align: right;\">\n",
       "      <th></th>\n",
       "      <th>Phillippines</th>\n",
       "      <th>Indonesia</th>\n",
       "      <th>Malta</th>\n",
       "      <th>India</th>\n",
       "    </tr>\n",
       "  </thead>\n",
       "  <tbody>\n",
       "    <tr>\n",
       "      <th>0</th>\n",
       "      <td>Error Free</td>\n",
       "      <td>Error Free</td>\n",
       "      <td>Defective</td>\n",
       "      <td>Error Free</td>\n",
       "    </tr>\n",
       "    <tr>\n",
       "      <th>1</th>\n",
       "      <td>Error Free</td>\n",
       "      <td>Error Free</td>\n",
       "      <td>Error Free</td>\n",
       "      <td>Defective</td>\n",
       "    </tr>\n",
       "    <tr>\n",
       "      <th>2</th>\n",
       "      <td>Error Free</td>\n",
       "      <td>Defective</td>\n",
       "      <td>Defective</td>\n",
       "      <td>Error Free</td>\n",
       "    </tr>\n",
       "    <tr>\n",
       "      <th>3</th>\n",
       "      <td>Error Free</td>\n",
       "      <td>Error Free</td>\n",
       "      <td>Error Free</td>\n",
       "      <td>Error Free</td>\n",
       "    </tr>\n",
       "    <tr>\n",
       "      <th>4</th>\n",
       "      <td>Error Free</td>\n",
       "      <td>Error Free</td>\n",
       "      <td>Defective</td>\n",
       "      <td>Error Free</td>\n",
       "    </tr>\n",
       "  </tbody>\n",
       "</table>\n",
       "</div>"
      ],
      "text/plain": [
       "  Phillippines   Indonesia       Malta       India\n",
       "0   Error Free  Error Free   Defective  Error Free\n",
       "1   Error Free  Error Free  Error Free   Defective\n",
       "2   Error Free   Defective   Defective  Error Free\n",
       "3   Error Free  Error Free  Error Free  Error Free\n",
       "4   Error Free  Error Free   Defective  Error Free"
      ]
     },
     "execution_count": 90,
     "metadata": {},
     "output_type": "execute_result"
    }
   ],
   "source": [
    "costomer.head()"
   ]
  },
  {
   "cell_type": "code",
   "execution_count": 91,
   "id": "d8c0a6a7",
   "metadata": {
    "ExecuteTime": {
     "end_time": "2022-08-19T12:10:53.989190Z",
     "start_time": "2022-08-19T12:10:53.957947Z"
    }
   },
   "outputs": [
    {
     "data": {
      "text/html": [
       "<div>\n",
       "<style scoped>\n",
       "    .dataframe tbody tr th:only-of-type {\n",
       "        vertical-align: middle;\n",
       "    }\n",
       "\n",
       "    .dataframe tbody tr th {\n",
       "        vertical-align: top;\n",
       "    }\n",
       "\n",
       "    .dataframe thead th {\n",
       "        text-align: right;\n",
       "    }\n",
       "</style>\n",
       "<table border=\"1\" class=\"dataframe\">\n",
       "  <thead>\n",
       "    <tr style=\"text-align: right;\">\n",
       "      <th></th>\n",
       "      <th>Phillippines</th>\n",
       "      <th>Indonesia</th>\n",
       "      <th>Malta</th>\n",
       "      <th>India</th>\n",
       "    </tr>\n",
       "  </thead>\n",
       "  <tbody>\n",
       "    <tr>\n",
       "      <th>295</th>\n",
       "      <td>Error Free</td>\n",
       "      <td>Error Free</td>\n",
       "      <td>Error Free</td>\n",
       "      <td>Error Free</td>\n",
       "    </tr>\n",
       "    <tr>\n",
       "      <th>296</th>\n",
       "      <td>Error Free</td>\n",
       "      <td>Error Free</td>\n",
       "      <td>Error Free</td>\n",
       "      <td>Error Free</td>\n",
       "    </tr>\n",
       "    <tr>\n",
       "      <th>297</th>\n",
       "      <td>Error Free</td>\n",
       "      <td>Error Free</td>\n",
       "      <td>Defective</td>\n",
       "      <td>Error Free</td>\n",
       "    </tr>\n",
       "    <tr>\n",
       "      <th>298</th>\n",
       "      <td>Error Free</td>\n",
       "      <td>Error Free</td>\n",
       "      <td>Error Free</td>\n",
       "      <td>Error Free</td>\n",
       "    </tr>\n",
       "    <tr>\n",
       "      <th>299</th>\n",
       "      <td>Error Free</td>\n",
       "      <td>Defective</td>\n",
       "      <td>Defective</td>\n",
       "      <td>Error Free</td>\n",
       "    </tr>\n",
       "  </tbody>\n",
       "</table>\n",
       "</div>"
      ],
      "text/plain": [
       "    Phillippines   Indonesia       Malta       India\n",
       "295   Error Free  Error Free  Error Free  Error Free\n",
       "296   Error Free  Error Free  Error Free  Error Free\n",
       "297   Error Free  Error Free   Defective  Error Free\n",
       "298   Error Free  Error Free  Error Free  Error Free\n",
       "299   Error Free   Defective   Defective  Error Free"
      ]
     },
     "execution_count": 91,
     "metadata": {},
     "output_type": "execute_result"
    }
   ],
   "source": [
    "costomer.tail()"
   ]
  },
  {
   "cell_type": "code",
   "execution_count": 92,
   "id": "a2593a6b",
   "metadata": {
    "ExecuteTime": {
     "end_time": "2022-08-19T12:10:54.004811Z",
     "start_time": "2022-08-19T12:10:53.989190Z"
    }
   },
   "outputs": [
    {
     "name": "stdout",
     "output_type": "stream",
     "text": [
      "<class 'pandas.core.frame.DataFrame'>\n",
      "RangeIndex: 300 entries, 0 to 299\n",
      "Data columns (total 4 columns):\n",
      " #   Column        Non-Null Count  Dtype \n",
      "---  ------        --------------  ----- \n",
      " 0   Phillippines  300 non-null    object\n",
      " 1   Indonesia     300 non-null    object\n",
      " 2   Malta         300 non-null    object\n",
      " 3   India         300 non-null    object\n",
      "dtypes: object(4)\n",
      "memory usage: 9.5+ KB\n"
     ]
    }
   ],
   "source": [
    "costomer.info()"
   ]
  },
  {
   "cell_type": "code",
   "execution_count": 93,
   "id": "60c5bfcc",
   "metadata": {
    "ExecuteTime": {
     "end_time": "2022-08-19T12:10:54.036053Z",
     "start_time": "2022-08-19T12:10:54.004811Z"
    }
   },
   "outputs": [
    {
     "data": {
      "text/html": [
       "<div>\n",
       "<style scoped>\n",
       "    .dataframe tbody tr th:only-of-type {\n",
       "        vertical-align: middle;\n",
       "    }\n",
       "\n",
       "    .dataframe tbody tr th {\n",
       "        vertical-align: top;\n",
       "    }\n",
       "\n",
       "    .dataframe thead th {\n",
       "        text-align: right;\n",
       "    }\n",
       "</style>\n",
       "<table border=\"1\" class=\"dataframe\">\n",
       "  <thead>\n",
       "    <tr style=\"text-align: right;\">\n",
       "      <th></th>\n",
       "      <th>Phillippines</th>\n",
       "      <th>Indonesia</th>\n",
       "      <th>Malta</th>\n",
       "      <th>India</th>\n",
       "    </tr>\n",
       "  </thead>\n",
       "  <tbody>\n",
       "    <tr>\n",
       "      <th>count</th>\n",
       "      <td>300</td>\n",
       "      <td>300</td>\n",
       "      <td>300</td>\n",
       "      <td>300</td>\n",
       "    </tr>\n",
       "    <tr>\n",
       "      <th>unique</th>\n",
       "      <td>2</td>\n",
       "      <td>2</td>\n",
       "      <td>2</td>\n",
       "      <td>2</td>\n",
       "    </tr>\n",
       "    <tr>\n",
       "      <th>top</th>\n",
       "      <td>Error Free</td>\n",
       "      <td>Error Free</td>\n",
       "      <td>Error Free</td>\n",
       "      <td>Error Free</td>\n",
       "    </tr>\n",
       "    <tr>\n",
       "      <th>freq</th>\n",
       "      <td>271</td>\n",
       "      <td>267</td>\n",
       "      <td>269</td>\n",
       "      <td>280</td>\n",
       "    </tr>\n",
       "  </tbody>\n",
       "</table>\n",
       "</div>"
      ],
      "text/plain": [
       "       Phillippines   Indonesia       Malta       India\n",
       "count           300         300         300         300\n",
       "unique            2           2           2           2\n",
       "top      Error Free  Error Free  Error Free  Error Free\n",
       "freq            271         267         269         280"
      ]
     },
     "execution_count": 93,
     "metadata": {},
     "output_type": "execute_result"
    }
   ],
   "source": [
    "costomer.describe()"
   ]
  },
  {
   "cell_type": "code",
   "execution_count": 94,
   "id": "a1b43d61",
   "metadata": {
    "ExecuteTime": {
     "end_time": "2022-08-19T12:10:54.052076Z",
     "start_time": "2022-08-19T12:10:54.036053Z"
    }
   },
   "outputs": [
    {
     "name": "stdout",
     "output_type": "stream",
     "text": [
      "Error Free    271\n",
      "Defective      29\n",
      "Name: Phillippines, dtype: int64\n",
      "Error Free    267\n",
      "Defective      33\n",
      "Name: Indonesia, dtype: int64\n",
      "Error Free    269\n",
      "Defective      31\n",
      "Name: Malta, dtype: int64\n",
      "Error Free    280\n",
      "Defective      20\n",
      "Name: India, dtype: int64\n"
     ]
    }
   ],
   "source": [
    "Phillippines_value=costomer['Phillippines'].value_counts()\n",
    "Indonesia_value=costomer['Indonesia'].value_counts()\n",
    "Malta_value=costomer['Malta'].value_counts()\n",
    "India_value=costomer['India'].value_counts()\n",
    "print(Phillippines_value)\n",
    "print(Indonesia_value)\n",
    "print(Malta_value)\n",
    "print(India_value)\n"
   ]
  },
  {
   "cell_type": "code",
   "execution_count": 95,
   "id": "08665142",
   "metadata": {
    "ExecuteTime": {
     "end_time": "2022-08-19T12:10:54.067703Z",
     "start_time": "2022-08-19T12:10:54.052076Z"
    }
   },
   "outputs": [],
   "source": [
    "ErrorFree=pd.Series([271,267,269,280])\n",
    "Defective=pd.Series([29,33,31,20])"
   ]
  },
  {
   "cell_type": "markdown",
   "id": "46c35083",
   "metadata": {
    "ExecuteTime": {
     "end_time": "2022-08-17T05:14:19.191365Z",
     "start_time": "2022-08-17T05:14:19.173274Z"
    }
   },
   "source": [
    " H0=mue1=mu2=mu3=mue4\n",
    "   \n",
    " H1=at least one mean different  from others"
   ]
  },
  {
   "cell_type": "code",
   "execution_count": 96,
   "id": "f27df8f0",
   "metadata": {
    "ExecuteTime": {
     "end_time": "2022-08-19T12:10:54.083328Z",
     "start_time": "2022-08-19T12:10:54.067703Z"
    }
   },
   "outputs": [
    {
     "data": {
      "text/plain": [
       "(3.858960685820355,\n",
       " 0.2771020991233135,\n",
       " 3,\n",
       " array([[271.75, 271.75, 271.75, 271.75],\n",
       "        [ 28.25,  28.25,  28.25,  28.25]]))"
      ]
     },
     "execution_count": 96,
     "metadata": {},
     "output_type": "execute_result"
    }
   ],
   "source": [
    "Chisquares=stats.chi2_contingency([ErrorFree,Defective])\n",
    "Chisquares"
   ]
  },
  {
   "cell_type": "code",
   "execution_count": 97,
   "id": "60be7f0b",
   "metadata": {
    "ExecuteTime": {
     "end_time": "2022-08-19T12:10:54.098946Z",
     "start_time": "2022-08-19T12:10:54.083328Z"
    }
   },
   "outputs": [
    {
     "data": {
      "text/plain": [
       "[['', 'Test Statistic', 'p-value'],\n",
       " ['Sample Data', 3.858960685820355, 0.2771020991233135]]"
      ]
     },
     "execution_count": 97,
     "metadata": {},
     "output_type": "execute_result"
    }
   ],
   "source": [
    "Chi_square=[['','Test Statistic','p-value'],['Sample Data',Chisquares[0],Chisquares[1]]]\n",
    "Chi_square "
   ]
  },
  {
   "cell_type": "code",
   "execution_count": 98,
   "id": "e7be2ff5",
   "metadata": {
    "ExecuteTime": {
     "end_time": "2022-08-19T12:10:54.114599Z",
     "start_time": "2022-08-19T12:10:54.098946Z"
    }
   },
   "outputs": [
    {
     "name": "stdout",
     "output_type": "stream",
     "text": [
      "H0:accept null hypothesis\n"
     ]
    }
   ],
   "source": [
    "p=0.2771020991233135\n",
    "if p>0.05:\n",
    "    print('H0:accept null hypothesis')\n",
    "else:\n",
    "    print('H1:accept alternative hypothesis')"
   ]
  },
  {
   "cell_type": "markdown",
   "id": "7fb76fbe",
   "metadata": {},
   "source": [
    " concluesion:  there is no difference  in Error free orders and Difective orders of the 4 contries is same"
   ]
  },
  {
   "cell_type": "code",
   "execution_count": null,
   "id": "9981a693",
   "metadata": {},
   "outputs": [],
   "source": []
  }
 ],
 "metadata": {
  "kernelspec": {
   "display_name": "Python 3 (ipykernel)",
   "language": "python",
   "name": "python3"
  },
  "language_info": {
   "codemirror_mode": {
    "name": "ipython",
    "version": 3
   },
   "file_extension": ".py",
   "mimetype": "text/x-python",
   "name": "python",
   "nbconvert_exporter": "python",
   "pygments_lexer": "ipython3",
   "version": "3.9.12"
  }
 },
 "nbformat": 4,
 "nbformat_minor": 5
}
